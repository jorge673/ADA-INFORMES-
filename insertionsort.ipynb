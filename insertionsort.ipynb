{
  "nbformat": 4,
  "nbformat_minor": 0,
  "metadata": {
    "colab": {
      "name": "Untitled1.ipynb",
      "provenance": [],
      "authorship_tag": "ABX9TyPqlufWw97SiN1IPJ6/3rP6",
      "include_colab_link": true
    },
    "kernelspec": {
      "name": "python3",
      "display_name": "Python 3"
    },
    "language_info": {
      "name": "python"
    }
  },
  "cells": [
    {
      "cell_type": "markdown",
      "metadata": {
        "id": "view-in-github",
        "colab_type": "text"
      },
      "source": [
        "<a href=\"https://colab.research.google.com/github/jorge673/ADA-INFORMES-/blob/main/insertionsort.ipynb\" target=\"_parent\"><img src=\"https://colab.research.google.com/assets/colab-badge.svg\" alt=\"Open In Colab\"/></a>"
      ]
    },
    {
      "cell_type": "markdown",
      "source": [
        "# 1. Descripcion del problema\n",
        "**entreda**: Una lista de n-números: $a = [a_1, a_2, a_3,…, a_n]$\n",
        "\n",
        "**salida**: Una lista ordenada con los elementos ordenados $a' = [a_1', a_2', a_3',…, a_n']$\n",
        "\n",
        "![image](https://imgur.com/v99pCtP.png)\n",
        "\n",
        "Es uno de los problemas mas antiguos de la programación, y uno de los mas comunes a la vez debido que tiene un grado de complejidad a pesar de lo muy simple y sencillo que parezca, es por eso que hasta el día de hoy se investiga sobre este problema para hacerlo cada vez mas sencillo y eficiente.\n",
        "\n"
      ],
      "metadata": {
        "id": "v7KEbiJpUcET"
      }
    },
    {
      "cell_type": "markdown",
      "source": [
        "# 2. InsertionSort\n",
        "el siguiente codigo muestra el *Insertion-sort* echo en pyton\n",
        "\n"
      ],
      "metadata": {
        "id": "F-snfTKTU0Wa"
      }
    },
    {
      "cell_type": "code",
      "source": [
        "def InsertionSort(lista):\n",
        "\n",
        "  n = len(lista)\n",
        "  for i in range(1,n):\n",
        "\n",
        "    aux = lista[i]\t\n",
        "    j = i-1\n",
        "\n",
        "    while j >= 0 and lista[j] > aux :\n",
        "      \n",
        "        lista[j+1] = lista[j]\n",
        "        j = j-1\n",
        "        lista[j+1] = aux \n",
        "\n",
        "  return lista\n",
        "\n",
        "mylist = [2,5,1,4,3]\n",
        "\n",
        "print(\"Lista de entrada :\", mylist)\n",
        "\n",
        "mylist = InsertionSort(mylist)\n",
        "\n",
        "print(\"Lista de salida :\", mylist)\n",
        "\n"
      ],
      "metadata": {
        "colab": {
          "base_uri": "https://localhost:8080/"
        },
        "id": "_tO_L_Psavk5",
        "outputId": "72666d6d-46e4-42f1-bdc8-73d45161627d"
      },
      "execution_count": 19,
      "outputs": [
        {
          "output_type": "stream",
          "name": "stdout",
          "text": [
            "Lista de entrada : [2, 5, 1, 4, 3]\n",
            "Lista de salida : [1, 2, 3, 4, 5]\n"
          ]
        }
      ]
    }
  ]
}