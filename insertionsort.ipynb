{
  "nbformat": 4,
  "nbformat_minor": 0,
  "metadata": {
    "colab": {
      "name": "Untitled1.ipynb",
      "provenance": [],
      "authorship_tag": "ABX9TyNAqPILHUnWLVePeX3jHUqD",
      "include_colab_link": true
    },
    "kernelspec": {
      "name": "python3",
      "display_name": "Python 3"
    },
    "language_info": {
      "name": "python"
    }
  },
  "cells": [
    {
      "cell_type": "markdown",
      "metadata": {
        "id": "view-in-github",
        "colab_type": "text"
      },
      "source": [
        "<a href=\"https://colab.research.google.com/github/jorge673/ADA-INFORMES-/blob/main/insertionsort.ipynb\" target=\"_parent\"><img src=\"https://colab.research.google.com/assets/colab-badge.svg\" alt=\"Open In Colab\"/></a>"
      ]
    },
    {
      "cell_type": "markdown",
      "source": [
        "# 1. Descripcion del problema\n",
        "**Entrada**: Una lista de n-números: $a = [a_1, a_2, a_3,…, a_n]$\n",
        "\n",
        "**Salida**: Una lista ordenada con los elementos ordenados $a' = [a_1', a_2', a_3',…, a_n']$ de manera que *$a_1'\\leq a_2' \\leq a_3'\\leq... \\leq a_n'$*\n",
        "\n",
        "![image](https://imgur.com/v99pCtP.png)\n",
        "\n",
        "Es uno de los problemas mas antiguos de la programación y uno de los mas comunes a la vez debido que tiene un grado de complejidad a pesar de lo muy simple y sencillo que parezca, es por eso que hasta el día de hoy se investiga sobre este problema para hacerlo cada vez mas sencillo y eficiente.\n",
        "\n"
      ],
      "metadata": {
        "id": "v7KEbiJpUcET"
      }
    },
    {
      "cell_type": "markdown",
      "source": [
        "# 2. InsertionSort\n",
        "## 2.1 Codigo\n",
        "**el siguiente codigo muestra el *Insertion-sort* echo en pyton:**\n",
        "\n"
      ],
      "metadata": {
        "id": "F-snfTKTU0Wa"
      }
    },
    {
      "cell_type": "code",
      "source": [
        "import random\n",
        "from termcolor import colored\n",
        "import copy\n",
        "\n",
        "def InsertionSort(lista, verbose=False):\n",
        "\n",
        "  n = len(lista) # largo del arreglo\n",
        "  c = 0 # contador de movimientos\n",
        "  temp = c\n",
        "  for i in range(1,n):\n",
        "\n",
        "    aux = lista[i] # guarda el i-esimo elemento de la funcion \n",
        "    j = i-1 # j sera antesesor de i\n",
        "\n",
        "    temp = c \n",
        "    \n",
        "    if(verbose):\n",
        "        print(\"Pasada \",i,\":\")\n",
        "        print(end=\"   \")\n",
        "        print(str(lista[:i])[1:-1],end=\", \")\n",
        "        print(colored(f\"{str(lista[i])}\",\"blue\")+\", \"+str(lista[i+1:])[1:-1])\n",
        "\n",
        "    while j >= 0 and lista[j] > aux :\n",
        "      #si el j-esimo elemento es mayor que aux (osea el sucesor de j) se realisa un cambio\n",
        "      lista[j+1] = lista[j]\n",
        "      j = j-1\n",
        "      c+=1 #se cuenta cuantas veces se movio un elemento\n",
        "      lista[j+1] = aux \n",
        "\n",
        "    if(verbose):\n",
        "        if(temp!=c):\n",
        "          print(end=\"   \")\n",
        "          if(j+1>0):\n",
        "            print(str(lista[:j+1])[1:-1],end=\", \")\n",
        "      \n",
        "          print(colored(f\"{str(lista[j+1])}\",\"green\")+\", \"+colored(f\"{str(lista[j+2:i+1])[1:-1]}\",\"red\")+\", \"+str(lista[i+1:])[1:-1])\n",
        "          print(\"   Nº de intercambios :\",i-(j+1))\n",
        "        else:\n",
        "          print(\"   No hay intercambios\")\n",
        "        print(\"\")\n",
        "\n",
        "  if(verbose):\n",
        "    print(\"El arreglo a sido ordenado\")\n",
        "  return lista , c\n",
        "\n",
        "mylist = [5,2,3,4,6,1]\n",
        "\n",
        "print(\"Lista de entrada :\", mylist)\n",
        "\n",
        "mylist , cont = InsertionSort(mylist)\n",
        "\n",
        "print(\"Lista de salida :\", mylist,\"\\n\")\n",
        "\n",
        "print(\"Cuantas veces se intercambio un valor : \" , cont)\n",
        "\n"
      ],
      "metadata": {
        "colab": {
          "base_uri": "https://localhost:8080/"
        },
        "id": "_tO_L_Psavk5",
        "outputId": "79788aec-4242-4fed-e98f-8c204d51e839"
      },
      "execution_count": 155,
      "outputs": [
        {
          "output_type": "stream",
          "name": "stdout",
          "text": [
            "Lista de entrada : [5, 2, 3, 4, 6, 1]\n",
            "Lista de salida : [1, 2, 3, 4, 5, 6] \n",
            "\n",
            "Cuantas veces se intercambio un valor :  8\n"
          ]
        }
      ]
    },
    {
      "cell_type": "markdown",
      "source": [
        "## 2.2 Descripcion del algoritomo\n",
        "El algoritmo resibe una lista o un arreglo \"$a$\" con la cantidad de $n$-numeros de los cuales el algoritmo tiene que ordenar de menor a mayor usando dentro del mismo arreglo o lista \n",
        "\n",
        "1.   el algoritmo empisa con un ciclo `for` con i desde 1 hasta el largo del arreglo, se declara a `j=i-1` (esta es la razon porque `i` no empiesa en 0) y por ultimo se asigna `aux=lista[i]` para que guarde. por ultimo se inicia un ciclo `while` con las condisionales  de `j>=0 ` y `lista[j]>aux`\n",
        "\n",
        "2. dentro de este ciclo `while` se intercambia el valor de `lista[j]` con la de `lista[j+1]`\n",
        "\n",
        "3.  el cilco `while` termina cuando `lista[j]<=aux` o `j<0`. Si esto no ocurre continuara hasta que lo anterior se cumpla.\n",
        "\n",
        "4. al final del algoritmo se retorna la lista ordenada y `c` que es la cantidad de veces que el ciclo cambio un elemento\n",
        "\n",
        "el algoritmo es muy facil de implemetar y se parece mas a la manera natural que tiene el ser humano para ordenar numero, pero tambien es una de las mas ineficientes\n",
        "\n",
        "\n",
        "\n"
      ],
      "metadata": {
        "id": "R1xUjFmyqhma"
      }
    },
    {
      "cell_type": "markdown",
      "source": [
        "## 2.3 Ejemplo \n",
        "Para el ejemplo usaremos el siguiente arreglo:\n",
        "\n",
        "$a=[3,2,4,1]$\n",
        "\n",
        "el la primera pasada el cambio que se produce es el de el 3 con 2\n",
        "\n",
        "$a=[2,3,4,1]$\n",
        "\n",
        "en la siguiente se compara el 3 con el 4, como 3 < 4 no se intercambia ningun numero\n",
        "\n",
        "$a=[2,3,4,1]$\n",
        "\n",
        "en la tercera pasada el 1 se intercambia con el 4\n",
        "\n",
        "$a=[2,3,1,4]$\n",
        "\n",
        "en la cuarta se intercambia el 1 con el 3\n",
        "\n",
        "$a=[2,1,3,4]$ \n",
        "\n",
        "y por ultimo se cambia el 2 por el 1\n",
        "\n",
        "$a=[1,2,3,4]$"
      ],
      "metadata": {
        "id": "6NvcUTganNsl"
      }
    },
    {
      "cell_type": "markdown",
      "source": [
        "##2.4 Algoritmo paso a paso\n",
        "Usando la opción `verbose=True`, podemos ver lo que ocurre en cada iteración del algoritmo"
      ],
      "metadata": {
        "id": "kKPQiy7Fsi8X"
      }
    },
    {
      "cell_type": "code",
      "source": [
        "import random\n",
        "\n",
        "a = random.sample(range(1, 100), 6)\n",
        "\n",
        "InsertionSort(a,True)\n",
        "\n",
        "\n"
      ],
      "metadata": {
        "colab": {
          "base_uri": "https://localhost:8080/"
        },
        "id": "zzEQEgkPs4nO",
        "outputId": "19f228b6-6bc8-416c-f2a7-64ec60fb2d34"
      },
      "execution_count": 158,
      "outputs": [
        {
          "output_type": "stream",
          "name": "stdout",
          "text": [
            "Pasada  1 :\n",
            "   70, \u001b[34m78\u001b[0m, 55, 56, 16, 12\n",
            "   No hay intercambios\n",
            "\n",
            "Pasada  2 :\n",
            "   70, 78, \u001b[34m55\u001b[0m, 56, 16, 12\n",
            "   \u001b[32m55\u001b[0m, \u001b[31m70, 78\u001b[0m, 56, 16, 12\n",
            "   Nº de intercambios : 2\n",
            "\n",
            "Pasada  3 :\n",
            "   55, 70, 78, \u001b[34m56\u001b[0m, 16, 12\n",
            "   55, \u001b[32m56\u001b[0m, \u001b[31m70, 78\u001b[0m, 16, 12\n",
            "   Nº de intercambios : 2\n",
            "\n",
            "Pasada  4 :\n",
            "   55, 56, 70, 78, \u001b[34m16\u001b[0m, 12\n",
            "   \u001b[32m16\u001b[0m, \u001b[31m55, 56, 70, 78\u001b[0m, 12\n",
            "   Nº de intercambios : 4\n",
            "\n",
            "Pasada  5 :\n",
            "   16, 55, 56, 70, 78, \u001b[34m12\u001b[0m, \n",
            "   \u001b[32m12\u001b[0m, \u001b[31m16, 55, 56, 70, 78\u001b[0m, \n",
            "   Nº de intercambios : 5\n",
            "\n",
            "El arreglo a sido ordenado\n"
          ]
        },
        {
          "output_type": "execute_result",
          "data": {
            "text/plain": [
              "([12, 16, 55, 56, 70, 78], 13)"
            ]
          },
          "metadata": {},
          "execution_count": 158
        }
      ]
    },
    {
      "cell_type": "markdown",
      "source": [
        "los numeros azul representa el $i$-esimo elemento que se esta comparando \n",
        "en cada intercambio es representado con rojo y la posision final de cada elemento esta coloreada con verde "
      ],
      "metadata": {
        "id": "uxaZ5rh2t1Lu"
      }
    },
    {
      "cell_type": "markdown",
      "source": [
        "#3.Tiempos de ejecucion \n",
        "\n",
        "insertion-sort en el mejor caso tendra un tiempo de $O(n)$ \n",
        "\n",
        "y el peor caso es de $O(n^2)$\n",
        "\n",
        "el peor caso ocurre cuando los elementos estan ordenados de mayor a menor, lo que provocaria que el $i$-esimo elemento debe ser intercambiado hasta la primera posision del arreglo"
      ],
      "metadata": {
        "id": "3jjhd8HswPkn"
      }
    },
    {
      "cell_type": "markdown",
      "source": [
        "##3.1 Ejemplo\n"
      ],
      "metadata": {
        "id": "OtsAFVs5zIDS"
      }
    },
    {
      "cell_type": "code",
      "source": [
        "lista=[6,5,4,3,2,1]\n",
        "\n",
        "print(\"entrada :\", lista)\n",
        "lista , contador = InsertionSort(lista,True)\n",
        "print(\"salida :\",lista)\n",
        "print(\"cantidad de intercambios :\", contador)"
      ],
      "metadata": {
        "id": "5pMiH7uFzjfu",
        "outputId": "cf26287c-a157-49bf-c91f-036ef2f6cdd3",
        "colab": {
          "base_uri": "https://localhost:8080/"
        }
      },
      "execution_count": 160,
      "outputs": [
        {
          "output_type": "stream",
          "name": "stdout",
          "text": [
            "entrada : [6, 5, 4, 3, 2, 1]\n",
            "Pasada  1 :\n",
            "   6, \u001b[34m5\u001b[0m, 4, 3, 2, 1\n",
            "   \u001b[32m5\u001b[0m, \u001b[31m6\u001b[0m, 4, 3, 2, 1\n",
            "   Nº de intercambios : 1\n",
            "\n",
            "Pasada  2 :\n",
            "   5, 6, \u001b[34m4\u001b[0m, 3, 2, 1\n",
            "   \u001b[32m4\u001b[0m, \u001b[31m5, 6\u001b[0m, 3, 2, 1\n",
            "   Nº de intercambios : 2\n",
            "\n",
            "Pasada  3 :\n",
            "   4, 5, 6, \u001b[34m3\u001b[0m, 2, 1\n",
            "   \u001b[32m3\u001b[0m, \u001b[31m4, 5, 6\u001b[0m, 2, 1\n",
            "   Nº de intercambios : 3\n",
            "\n",
            "Pasada  4 :\n",
            "   3, 4, 5, 6, \u001b[34m2\u001b[0m, 1\n",
            "   \u001b[32m2\u001b[0m, \u001b[31m3, 4, 5, 6\u001b[0m, 1\n",
            "   Nº de intercambios : 4\n",
            "\n",
            "Pasada  5 :\n",
            "   2, 3, 4, 5, 6, \u001b[34m1\u001b[0m, \n",
            "   \u001b[32m1\u001b[0m, \u001b[31m2, 3, 4, 5, 6\u001b[0m, \n",
            "   Nº de intercambios : 5\n",
            "\n",
            "El arreglo a sido ordenado\n",
            "salida : [1, 2, 3, 4, 5, 6]\n",
            "cantidad de intercambios : 15\n"
          ]
        }
      ]
    }
  ]
}