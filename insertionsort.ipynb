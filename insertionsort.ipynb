{
  "nbformat": 4,
  "nbformat_minor": 0,
  "metadata": {
    "colab": {
      "name": "Untitled1.ipynb",
      "provenance": [],
      "authorship_tag": "ABX9TyM9+vqD3MLvMy4Ik58oNEKq",
      "include_colab_link": true
    },
    "kernelspec": {
      "name": "python3",
      "display_name": "Python 3"
    },
    "language_info": {
      "name": "python"
    }
  },
  "cells": [
    {
      "cell_type": "markdown",
      "metadata": {
        "id": "view-in-github",
        "colab_type": "text"
      },
      "source": [
        "<a href=\"https://colab.research.google.com/github/jorge673/ADA-INFORMES-/blob/main/insertionsort.ipynb\" target=\"_parent\"><img src=\"https://colab.research.google.com/assets/colab-badge.svg\" alt=\"Open In Colab\"/></a>"
      ]
    },
    {
      "cell_type": "markdown",
      "source": [
        "# 1. Descripcion del problema\n",
        "**Entrada**: Una lista de n-números: $a = [a_1, a_2, a_3,…, a_n]$\n",
        "\n",
        "**Salida**: Una lista ordenada con los elementos ordenados $a' = [a_1', a_2', a_3',…, a_n']$ de manera que *$a_1'\\leq a_2' \\leq a_3'\\leq... \\leq a_n'$*\n",
        "\n",
        "![image](https://imgur.com/v99pCtP.png)\n",
        "\n",
        "Es uno de los problemas mas antiguos de la programación y uno de los mas comunes a la vez debido que tiene un grado de complejidad a pesar de lo muy simple y sencillo que parezca, es por eso que hasta el día de hoy se investiga sobre este problema para hacerlo cada vez mas sencillo y eficiente.\n",
        "\n"
      ],
      "metadata": {
        "id": "v7KEbiJpUcET"
      }
    },
    {
      "cell_type": "markdown",
      "source": [
        "# 2. InsertionSort\n",
        "## 2.1 codigo\n",
        "**el siguiente codigo muestra el *Insertion-sort* echo en pyton:**\n",
        "\n"
      ],
      "metadata": {
        "id": "F-snfTKTU0Wa"
      }
    },
    {
      "cell_type": "code",
      "source": [
        "def InsertionSort(lista):\n",
        "\n",
        "  n = len(lista) # largo del arreglo\n",
        "  c = 0 # contador de movimientos\n",
        "  for i in range(1,n):\n",
        "\n",
        "    aux = lista[i] # guarda el i-esimo elemento de la funcion \n",
        "    j = i-1 # j sera antesesor de i\n",
        "\n",
        "    while j >= 0 and lista[j] > aux :\n",
        "      #si el j-esimo elemento es mayor que aux (osea el sucesor de j) se realisa un cambio\n",
        "      lista[j+1] = lista[j]\n",
        "      j = j-1\n",
        "\n",
        "      c+=1 #se cuenta cuantas veces se movio un elemento\n",
        "\n",
        "    lista[j+1] = aux \n",
        "\n",
        "  return lista , c\n",
        "\n",
        "mylist = [1,5,7,2,3]\n",
        "\n",
        "print(\"Lista de entrada :\", mylist)\n",
        "\n",
        "mylist , cont = InsertionSort(mylist)\n",
        "\n",
        "print(\"Lista de salida :\", mylist)\n",
        "\n",
        "print(\"Cuantas veces se movio un valor : \" , cont)\n",
        "\n"
      ],
      "metadata": {
        "colab": {
          "base_uri": "https://localhost:8080/"
        },
        "id": "_tO_L_Psavk5",
        "outputId": "f5db4506-fb74-4f16-f6af-d64fc9634e75"
      },
      "execution_count": 10,
      "outputs": [
        {
          "output_type": "stream",
          "name": "stdout",
          "text": [
            "Lista de entrada : [1, 5, 7, 2, 3]\n",
            "Lista de salida : [1, 2, 3, 5, 7]\n",
            "Cuantas veces se movio un valor :  4\n"
          ]
        }
      ]
    },
    {
      "cell_type": "markdown",
      "source": [
        "## 2.2 descripcion del algoritomo\n",
        "El algoritmo resibe una lista o un arreglo \"$a$\" con la cantidad de $n$-numeros de los cuales el algoritmo tiene que ordenar de menor a mayor usando dentro del mismo arreglo o lista\n",
        "\n",
        "1.   Dentro de este cada iteracion de $i$ se verifica que `j>=0` y `lista[j]>aux` donde `aux` vendria siendo el $i$-esimo elemento.Si lo anterior se cumple entonces se comiensa un ciclo donde `lista[j+1]` se le asigna el valor de `lista[j]` y Luego `j` se decrementa. \n",
        "\n",
        "2.  el cilco termina cuando `lista[j]<aux` o `j<0`. Si esto no ocurre continuara hasta que lo anterior se cumpla.\n",
        "\n",
        "3. al final del algoritmo se retorna la lista ordenada y `c` que es la cantidad de veces que el ciclo cambio un elemento\n",
        "\n",
        "\n",
        "\n"
      ],
      "metadata": {
        "id": "R1xUjFmyqhma"
      }
    }
  ]
}