{
  "nbformat": 4,
  "nbformat_minor": 0,
  "metadata": {
    "colab": {
      "provenance": [],
      "authorship_tag": "ABX9TyN0L29Z7Y5StFwtmEbV5Blf",
      "include_colab_link": true
    },
    "kernelspec": {
      "name": "python3",
      "display_name": "Python 3"
    },
    "language_info": {
      "name": "python"
    }
  },
  "cells": [
    {
      "cell_type": "markdown",
      "metadata": {
        "id": "view-in-github",
        "colab_type": "text"
      },
      "source": [
        "<a href=\"https://colab.research.google.com/github/jorge673/ADA-INFORMES-/blob/main/informe-Select.ipynb\" target=\"_parent\"><img src=\"https://colab.research.google.com/assets/colab-badge.svg\" alt=\"Open In Colab\"/></a>"
      ]
    },
    {
      "cell_type": "markdown",
      "source": [
        "#**1. Descripcion del problema**\n",
        "---\n",
        "###Problema de seleccion\n",
        "\n",
        "**Entrada**: Arreglo $A$ de tamaño $n$ y un indice $i$.\n",
        "\n",
        "**Salida**: Se entrega $x$ el cual es mayor a $i-1$ elementos de $A$. Osea el **estadistico de orden $i$-esimo para $A$**.\n",
        "\n",
        "\n",
        "![des_img](https://i.imgur.com/l92x01u.png)\n",
        "\n",
        "teniendo una semejansa con los porblemas de ordenamiento con la gran diferencia que no se nesetia ordenar todo el arrelgo para obtener el $i$-esimo elemento. Son una parte fundamental de la estadistica para obtener el k-esimo elemento de una muestra estadistica, tambien para obtener la mayor, la menor o la mediana de dicha muestra.\n",
        "\n"
      ],
      "metadata": {
        "id": "LpiBHf0OJ2y0"
      }
    },
    {
      "cell_type": "markdown",
      "source": [
        "#2. **Algoritmo Selection**\n",
        "---"
      ],
      "metadata": {
        "id": "KQHgh0XRTkcf"
      }
    },
    {
      "cell_type": "markdown",
      "source": [
        "##2.1 Codigo"
      ],
      "metadata": {
        "id": "n-TayEJKT7yn"
      }
    },
    {
      "cell_type": "code",
      "execution_count": 460,
      "metadata": {
        "colab": {
          "base_uri": "https://localhost:8080/"
        },
        "id": "vjOCQit4IV3v",
        "outputId": "832555bc-a913-4bc7-b5e2-cab8f19bb533"
      },
      "outputs": [
        {
          "output_type": "stream",
          "name": "stdout",
          "text": [
            "el 4 menor elemnto de a es : 6\n"
          ]
        }
      ],
      "source": [
        "\n",
        "def insertionSort(arr):\n",
        "  \n",
        "    for i in range(1, len(arr)):\n",
        "  \n",
        "        key = arr[i]\n",
        "  \n",
        "        j = i-1\n",
        "        while j >= 0 and key < arr[j] :\n",
        "                arr[j + 1] = arr[j]\n",
        "                j -= 1\n",
        "        arr[j + 1] = key\n",
        "    \n",
        "    return arr\n",
        "\n",
        "\n",
        "\n",
        "def Particion(arr,low,high):\n",
        "  pivot, i = arr[high], low\n",
        "\n",
        "  for j in range(low, high):\n",
        "      if arr[j] <= pivot:\n",
        "          arr[i], arr[j] = arr[j], arr[i]\n",
        "          i += 1\n",
        "  arr[i], arr[high] = arr[high], arr[i]\n",
        "  \n",
        "\n",
        "  return i\n",
        "\n",
        "def partitionSelect(a,low,high,verbose=False,first=True):\n",
        "  \n",
        "  b=a[low:high]\n",
        "  dif=low\n",
        "  high-=dif\n",
        "  low-=dif\n",
        "\n",
        "  if(verbose):\n",
        "    print(\"   pivote->arreglo:\",b)\n",
        "\n",
        "\n",
        "  if(len(b)==1):\n",
        "    if(type(b[0])==int):\n",
        "      return low\n",
        "      if(verbose):\n",
        "         print(\"   pivote->return:\",b[0])\n",
        "    return b[0][1]\n",
        "\n",
        "  if(verbose):\n",
        "    print(\"   pivote->arreglo:\",b)\n",
        "\n",
        "  if(first==True):\n",
        "    for i in range(low,high):\n",
        "      b[i]=b[i],i+dif\n",
        "\n",
        "  medianas=[]\n",
        "  i=low\n",
        "\n",
        "  for j in range(low+5,high+5,5):\n",
        "    current=insertionSort(b[i:j])\n",
        "    aux=current[int((len(current))/2)]\n",
        "    medianas.append(aux)\n",
        "    i=j\n",
        "\n",
        "  \n",
        "  return partitionSelect(medianas,0,len(medianas),verbose,False)\n",
        "\n",
        "\n",
        "\n",
        "\n",
        "def Select(a,low,high,i,verbose=False):\n",
        "  if(len(a[low:high])==1):\n",
        "    if(verbose):\n",
        "      print(\"arreglo de orden 1:\")\n",
        "    return a[low]\n",
        "\n",
        "  if(verbose):\n",
        "    print(\"arreglo:\",a[low:high])\n",
        "    print()\n",
        "\n",
        "  q = partitionSelect(a,low,high,verbose) \n",
        "  a[high-1],a[q] = a[q],a[high-1]\n",
        "  p=Particion(a,low,high-1)\n",
        "  k=p-low+1\n",
        "\n",
        "  if(verbose):\n",
        "    print()\n",
        "    print(\"posision del pivote:\",p)\n",
        "    print(\"valor de i:\",i)\n",
        "    print(\"valor de pos elemento encontrado:\",k)\n",
        "    print(\"valor de a[p]:\",a[p])\n",
        "\n",
        "    print(\"arreglo\",a[low:high])\n",
        "\n",
        "  if(k==i):\n",
        "    if(verbose):\n",
        "      print(\"(Ocurre que \",k,\"=\",i,\")\\n\")\n",
        "    return a[p]\n",
        "  elif(k>i):\n",
        "    if(verbose):\n",
        "      print(\"(Ocurre que \",k,\">\",i,\")\\n\")\n",
        "    return Select(a,low,p,i,verbose)\n",
        "  else:\n",
        "    if(verbose):\n",
        "      print(\"(Ocurre que \",k,\"<\",i,\")\\n\")\n",
        "    return Select(a,p+1,high,i-k,verbose)\n",
        "\n",
        "\n",
        "a=[9,1,2,6,7,2,10,111,223,123]\n",
        "print(\"el 4 menor elemnto de a es :\",Select(a,0,len(a),4,False))"
      ]
    },
    {
      "cell_type": "markdown",
      "source": [
        "##2.2 **Descripcion del algoritmo**\n",
        "---\n",
        "###2.2.1 **Select():**\n",
        "A `Select()` se le entrega un arreglo `a` de tamaño $n$ y un indice `i`, luego utiliza la funcion pivotSelect() para sacar el mejor pivote y segun este se hace las siguientes opciones:\n",
        "\n",
        "* al resultado de pivotselect() se le aplica la funcion partition para sacar la posision de `p`.\n",
        "\n",
        "* Si el **pivote es igual** al indice se retorna el elemento dentro de este.\n",
        "\n",
        "* Si el **pivote es mayor** al indice se retorna `Selection(a[0:p-1],largo,i)`.\n",
        "\n",
        "* Si ninguna de la dos posibilidades anteriores resulta correcta significa que el **pivote es menor a i** asi que se retorna `Selection(a[p+1:n],largo,)`.\n",
        "\n",
        "###2.2.2 **PivotSelect()**\n",
        "\n",
        "Se entraga un arreglo de tamaño `n` luego realiza las siguientes operaciones:\n",
        "\n",
        "* Divide el arrelgo en $n/5$ partes y luego.\n",
        "* A cada parte se le aplica la funcion `Insertionsort()` y se saca la mediana.de estas y se agregan a un arrelgo aparte.\n",
        "* luego se obtiene la medianas de medianasa volvioendo a usar `pivoteSelect()` en el arrelgo de medianas \n"
      ],
      "metadata": {
        "id": "AG_C-sC4a5yn"
      }
    },
    {
      "cell_type": "code",
      "source": [
        "a = [11,7,2,5,3,8,9,1]\n",
        "\n",
        "print(Select(a,0,len(a),4,True))"
      ],
      "metadata": {
        "colab": {
          "base_uri": "https://localhost:8080/"
        },
        "id": "nxFJkqZTbQ2x",
        "outputId": "9840f293-8e16-4445-a357-af9d61c81556"
      },
      "execution_count": 461,
      "outputs": [
        {
          "output_type": "stream",
          "name": "stdout",
          "text": [
            "arreglo: [11, 7, 2, 5, 3, 8, 9, 1]\n",
            "\n",
            "   pivote->arreglo: [11, 7, 2, 5, 3, 8, 9, 1]\n",
            "   pivote->arreglo: [11, 7, 2, 5, 3, 8, 9, 1]\n",
            "   pivote->arreglo: [(5, 3), (8, 5)]\n",
            "   pivote->arreglo: [(5, 3), (8, 5)]\n",
            "   pivote->arreglo: [(8, 5)]\n",
            "\n",
            "posision del pivote: 5\n",
            "valor de i: 4\n",
            "valor de pos elemento encontrado: 6\n",
            "valor de a[p]: 8\n",
            "arreglo [7, 2, 5, 3, 1, 8, 9, 11]\n",
            "(Ocurre que  6 > 4 )\n",
            "\n",
            "arreglo: [7, 2, 5, 3, 1]\n",
            "\n",
            "   pivote->arreglo: [7, 2, 5, 3, 1]\n",
            "   pivote->arreglo: [7, 2, 5, 3, 1]\n",
            "   pivote->arreglo: [(3, 3)]\n",
            "\n",
            "posision del pivote: 2\n",
            "valor de i: 4\n",
            "valor de pos elemento encontrado: 3\n",
            "valor de a[p]: 3\n",
            "arreglo [2, 1, 3, 7, 5]\n",
            "(Ocurre que  3 < 4 )\n",
            "\n",
            "arreglo: [7, 5]\n",
            "\n",
            "   pivote->arreglo: [7, 5]\n",
            "   pivote->arreglo: [7, 5]\n",
            "   pivote->arreglo: [(7, 3)]\n",
            "\n",
            "posision del pivote: 4\n",
            "valor de i: 1\n",
            "valor de pos elemento encontrado: 2\n",
            "valor de a[p]: 7\n",
            "arreglo [5, 7]\n",
            "(Ocurre que  2 > 1 )\n",
            "\n",
            "arreglo de orden 1:\n",
            "5\n"
          ]
        }
      ]
    },
    {
      "cell_type": "markdown",
      "source": [
        "#3. **Correctitud**\n",
        "---\n",
        "\n",
        "\n",
        "\n",
        "## 3.1 **Teorema**\n",
        ">_\"**Select()** entrega un elemento del arreglo $a[a_1,a_2,.....,a_n]$ el cual es $i$-esimo elemento de este\"_.\n",
        "\n",
        "Para este algoritmo se puede probar su correctitud se puede probar mediante la induccion matematica\n",
        "\n",
        "## 3.2 **Prueba por Induccion**\n",
        "\n",
        "**Caso base:** para cuando $n$ es igual a 1 $P(1)$: el como el arreglo es de tamaño 1 solo hay 1 elemento por lo cual trivialmente correcto ya que el para `i=1` el arreglo retorna 'a[low]'\n",
        "\n",
        "**Caso $m<n$:** para cuando $n>1$ busca si $k=i$ si esto no resulta entonces:\n",
        "\n",
        "* se trabaja la parte izquierda del arrelgo $a[:pivote-1]$ \n",
        "* si $k>i$, y si el arrelgo $k<i$ entonces se trabaja la parte derecha del arrelgo $a[pivote+1:]$\n"
      ],
      "metadata": {
        "id": "OB-gn_sa3rfa"
      }
    },
    {
      "cell_type": "markdown",
      "source": [
        "#4. **Complejidad temporal**\n",
        "---\n",
        "##4.1 Teorema.\n",
        ">_\"la complejidad temporal de select() es de $O(n)$\"_\n",
        "\n",
        "##4.2 Analisis.\n",
        "\n",
        "Para el analisis utilisaremos relacion de recurrencia:\n",
        "\n",
        "* ´pivotSelection()´ obtiene la mediana de la medianas de los sub arrelgos de tamaño $n/5$ asi que se puede definir como $T(n/5)$\n",
        "\n",
        "* Partition solo recorre el arrelgo por lo cual es $O(n)$\n",
        "\n",
        "Cuando el arrelgo se separa recursivamente se calculan 2 casos dependiendo si el $i$-esimo elemento aun no se encuentra \n",
        "\n",
        "La mitad de las medianas de pivotSelect son mayor o iguales que la medina que se obtiene real mente, esto implica que aproximadamente 3 datos sean mayores que la madiana verdadera, de esto se pude sacar la siguiente formula:\n",
        "\n",
        "$$(\\frac{1}{2}*\\frac{n}{5})*3 = 3n/10$$\n",
        "\n",
        "Si queremos sacar la otra mitad tendremos que restar a n la anterior relasion:\n",
        "\n",
        "$$n-(3n/10) = 7n/10$$\n",
        "\n",
        "Calculamos la relacion de recurrencia:\n",
        "\n",
        "$$T(n) = T(n/5) + T(7n/10) + O(n)$$\n",
        "\n",
        "Como queremos provar que el tiempo es $O(n)$, subtituimos:\n",
        "\n",
        "$$T(n) = cn/5 + 7cn/10 + dn$$\n",
        "\n",
        "$$T(n) = 9cn/10 = O(n)$$\n",
        "\n",
        "\n",
        "\n",
        "\n",
        "\n"
      ],
      "metadata": {
        "id": "kTiaTBIlDglx"
      }
    },
    {
      "cell_type": "markdown",
      "source": [
        "##5. **Experimentos**"
      ],
      "metadata": {
        "id": "GVGmVbNnVCee"
      }
    },
    {
      "cell_type": "code",
      "source": [
        "import random\n",
        "\n",
        "def rpivote(a,low,high):\n",
        "\n",
        "  i=random.randint(low,high)\n",
        "\n",
        "  a[high],a[i]=a[i],a[high]\n",
        "\n",
        "  return Particion(a,low,high)\n",
        "\n",
        "def Rselect(a,low,high,i):\n",
        "  if(low==high):\n",
        "    return a[low]\n",
        "\n",
        "  q = rpivote(a,low,high-1)\n",
        "\n",
        "  k = q - low + 1\n",
        "\n",
        "  if(i==q):\n",
        "    return a[q]\n",
        "  elif(i<q): return Rselect(a,low,q-1,i)\n",
        "  else: return Rselect(a,q+1,high,i-k)\n",
        "\n",
        "  "
      ],
      "metadata": {
        "id": "Gx7KE0jofmlL"
      },
      "execution_count": 477,
      "outputs": []
    },
    {
      "cell_type": "code",
      "source": [
        "import matplotlib.pyplot as plt\n",
        "import datetime\n",
        "\n",
        "from timeit import repeat\n",
        "\n",
        "x=[]; y=[]\n",
        "\n",
        "x1=[]; y2=[]\n",
        "\n",
        "for n in range(5,500):\n",
        "\n",
        "  a = random.sample(range(1, 1000), n)\n",
        "  i = random.randint(1,n)\n",
        "  \n",
        "  t = repeat(setup=\"from __main__ import Select\", stmt=f\"Select({a},{0},{len(a)},{i})\", repeat=1, number=10)\n",
        "\n",
        "  x.append(n)\n",
        "  y.append(t)\n",
        "\n",
        "for n in range(5,500):\n",
        "\n",
        "  a = random.sample(range(1, 1000), n)\n",
        "  i = random.randint(1,n)\n",
        "  \n",
        "  t = repeat(setup=\"from __main__ import Rselect\", stmt=f\"Rselect({a},{0},{len(a)-1},{i})\", repeat=1, number=10)\n",
        "\n",
        "  x1.append(n)\n",
        "  y2.append(t)\n",
        "\n",
        "\n",
        "plt.plot(x,y)\n",
        "plt.plot(x1,y2)\n",
        "plt.legend([\"Select\"],[\"Rselect\"])\n",
        "\n",
        "plt.xlabel('n')\n",
        "plt.ylabel('time in ms')\n",
        "plt.show()"
      ],
      "metadata": {
        "colab": {
          "base_uri": "https://localhost:8080/",
          "height": 381
        },
        "id": "FxiH9_Q4eIlx",
        "outputId": "af5def5d-ac9f-4366-981a-e172bc565dff"
      },
      "execution_count": 478,
      "outputs": [
        {
          "output_type": "error",
          "ename": "ValueError",
          "evalue": "ignored",
          "traceback": [
            "\u001b[0;31m---------------------------------------------------------------------------\u001b[0m",
            "\u001b[0;31mValueError\u001b[0m                                Traceback (most recent call last)",
            "\u001b[0;32m<ipython-input-478-76afafaad247>\u001b[0m in \u001b[0;36m<module>\u001b[0;34m\u001b[0m\n\u001b[1;32m     23\u001b[0m   \u001b[0mi\u001b[0m \u001b[0;34m=\u001b[0m \u001b[0mrandom\u001b[0m\u001b[0;34m.\u001b[0m\u001b[0mrandint\u001b[0m\u001b[0;34m(\u001b[0m\u001b[0;36m1\u001b[0m\u001b[0;34m,\u001b[0m\u001b[0mn\u001b[0m\u001b[0;34m)\u001b[0m\u001b[0;34m\u001b[0m\u001b[0;34m\u001b[0m\u001b[0m\n\u001b[1;32m     24\u001b[0m \u001b[0;34m\u001b[0m\u001b[0m\n\u001b[0;32m---> 25\u001b[0;31m   \u001b[0mt\u001b[0m \u001b[0;34m=\u001b[0m \u001b[0mrepeat\u001b[0m\u001b[0;34m(\u001b[0m\u001b[0msetup\u001b[0m\u001b[0;34m=\u001b[0m\u001b[0;34m\"from __main__ import Rselect\"\u001b[0m\u001b[0;34m,\u001b[0m \u001b[0mstmt\u001b[0m\u001b[0;34m=\u001b[0m\u001b[0;34mf\"Rselect({a},{0},{len(a)-1},{i})\"\u001b[0m\u001b[0;34m,\u001b[0m \u001b[0mrepeat\u001b[0m\u001b[0;34m=\u001b[0m\u001b[0;36m1\u001b[0m\u001b[0;34m,\u001b[0m \u001b[0mnumber\u001b[0m\u001b[0;34m=\u001b[0m\u001b[0;36m10\u001b[0m\u001b[0;34m)\u001b[0m\u001b[0;34m\u001b[0m\u001b[0;34m\u001b[0m\u001b[0m\n\u001b[0m\u001b[1;32m     26\u001b[0m \u001b[0;34m\u001b[0m\u001b[0m\n\u001b[1;32m     27\u001b[0m   \u001b[0mx1\u001b[0m\u001b[0;34m.\u001b[0m\u001b[0mappend\u001b[0m\u001b[0;34m(\u001b[0m\u001b[0mn\u001b[0m\u001b[0;34m)\u001b[0m\u001b[0;34m\u001b[0m\u001b[0;34m\u001b[0m\u001b[0m\n",
            "\u001b[0;32m/usr/lib/python3.7/timeit.py\u001b[0m in \u001b[0;36mrepeat\u001b[0;34m(stmt, setup, timer, repeat, number, globals)\u001b[0m\n\u001b[1;32m    236\u001b[0m            repeat=default_repeat, number=default_number, globals=None):\n\u001b[1;32m    237\u001b[0m     \u001b[0;34m\"\"\"Convenience function to create Timer object and call repeat method.\"\"\"\u001b[0m\u001b[0;34m\u001b[0m\u001b[0;34m\u001b[0m\u001b[0m\n\u001b[0;32m--> 238\u001b[0;31m     \u001b[0;32mreturn\u001b[0m \u001b[0mTimer\u001b[0m\u001b[0;34m(\u001b[0m\u001b[0mstmt\u001b[0m\u001b[0;34m,\u001b[0m \u001b[0msetup\u001b[0m\u001b[0;34m,\u001b[0m \u001b[0mtimer\u001b[0m\u001b[0;34m,\u001b[0m \u001b[0mglobals\u001b[0m\u001b[0;34m)\u001b[0m\u001b[0;34m.\u001b[0m\u001b[0mrepeat\u001b[0m\u001b[0;34m(\u001b[0m\u001b[0mrepeat\u001b[0m\u001b[0;34m,\u001b[0m \u001b[0mnumber\u001b[0m\u001b[0;34m)\u001b[0m\u001b[0;34m\u001b[0m\u001b[0;34m\u001b[0m\u001b[0m\n\u001b[0m\u001b[1;32m    239\u001b[0m \u001b[0;34m\u001b[0m\u001b[0m\n\u001b[1;32m    240\u001b[0m \u001b[0;32mdef\u001b[0m \u001b[0mmain\u001b[0m\u001b[0;34m(\u001b[0m\u001b[0margs\u001b[0m\u001b[0;34m=\u001b[0m\u001b[0;32mNone\u001b[0m\u001b[0;34m,\u001b[0m \u001b[0;34m*\u001b[0m\u001b[0;34m,\u001b[0m \u001b[0m_wrap_timer\u001b[0m\u001b[0;34m=\u001b[0m\u001b[0;32mNone\u001b[0m\u001b[0;34m)\u001b[0m\u001b[0;34m:\u001b[0m\u001b[0;34m\u001b[0m\u001b[0;34m\u001b[0m\u001b[0m\n",
            "\u001b[0;32m/usr/lib/python3.7/timeit.py\u001b[0m in \u001b[0;36mrepeat\u001b[0;34m(self, repeat, number)\u001b[0m\n\u001b[1;32m    203\u001b[0m         \u001b[0mr\u001b[0m \u001b[0;34m=\u001b[0m \u001b[0;34m[\u001b[0m\u001b[0;34m]\u001b[0m\u001b[0;34m\u001b[0m\u001b[0;34m\u001b[0m\u001b[0m\n\u001b[1;32m    204\u001b[0m         \u001b[0;32mfor\u001b[0m \u001b[0mi\u001b[0m \u001b[0;32min\u001b[0m \u001b[0mrange\u001b[0m\u001b[0;34m(\u001b[0m\u001b[0mrepeat\u001b[0m\u001b[0;34m)\u001b[0m\u001b[0;34m:\u001b[0m\u001b[0;34m\u001b[0m\u001b[0;34m\u001b[0m\u001b[0m\n\u001b[0;32m--> 205\u001b[0;31m             \u001b[0mt\u001b[0m \u001b[0;34m=\u001b[0m \u001b[0mself\u001b[0m\u001b[0;34m.\u001b[0m\u001b[0mtimeit\u001b[0m\u001b[0;34m(\u001b[0m\u001b[0mnumber\u001b[0m\u001b[0;34m)\u001b[0m\u001b[0;34m\u001b[0m\u001b[0;34m\u001b[0m\u001b[0m\n\u001b[0m\u001b[1;32m    206\u001b[0m             \u001b[0mr\u001b[0m\u001b[0;34m.\u001b[0m\u001b[0mappend\u001b[0m\u001b[0;34m(\u001b[0m\u001b[0mt\u001b[0m\u001b[0;34m)\u001b[0m\u001b[0;34m\u001b[0m\u001b[0;34m\u001b[0m\u001b[0m\n\u001b[1;32m    207\u001b[0m         \u001b[0;32mreturn\u001b[0m \u001b[0mr\u001b[0m\u001b[0;34m\u001b[0m\u001b[0;34m\u001b[0m\u001b[0m\n",
            "\u001b[0;32m/usr/lib/python3.7/timeit.py\u001b[0m in \u001b[0;36mtimeit\u001b[0;34m(self, number)\u001b[0m\n\u001b[1;32m    175\u001b[0m         \u001b[0mgc\u001b[0m\u001b[0;34m.\u001b[0m\u001b[0mdisable\u001b[0m\u001b[0;34m(\u001b[0m\u001b[0;34m)\u001b[0m\u001b[0;34m\u001b[0m\u001b[0;34m\u001b[0m\u001b[0m\n\u001b[1;32m    176\u001b[0m         \u001b[0;32mtry\u001b[0m\u001b[0;34m:\u001b[0m\u001b[0;34m\u001b[0m\u001b[0;34m\u001b[0m\u001b[0m\n\u001b[0;32m--> 177\u001b[0;31m             \u001b[0mtiming\u001b[0m \u001b[0;34m=\u001b[0m \u001b[0mself\u001b[0m\u001b[0;34m.\u001b[0m\u001b[0minner\u001b[0m\u001b[0;34m(\u001b[0m\u001b[0mit\u001b[0m\u001b[0;34m,\u001b[0m \u001b[0mself\u001b[0m\u001b[0;34m.\u001b[0m\u001b[0mtimer\u001b[0m\u001b[0;34m)\u001b[0m\u001b[0;34m\u001b[0m\u001b[0;34m\u001b[0m\u001b[0m\n\u001b[0m\u001b[1;32m    178\u001b[0m         \u001b[0;32mfinally\u001b[0m\u001b[0;34m:\u001b[0m\u001b[0;34m\u001b[0m\u001b[0;34m\u001b[0m\u001b[0m\n\u001b[1;32m    179\u001b[0m             \u001b[0;32mif\u001b[0m \u001b[0mgcold\u001b[0m\u001b[0;34m:\u001b[0m\u001b[0;34m\u001b[0m\u001b[0;34m\u001b[0m\u001b[0m\n",
            "\u001b[0;32m/usr/lib/python3.7/timeit.py\u001b[0m in \u001b[0;36minner\u001b[0;34m(_it, _timer)\u001b[0m\n",
            "\u001b[0;32m<ipython-input-477-0ef1378b50ec>\u001b[0m in \u001b[0;36mRselect\u001b[0;34m(a, low, high, i)\u001b[0m\n\u001b[1;32m     20\u001b[0m     \u001b[0;32mreturn\u001b[0m \u001b[0ma\u001b[0m\u001b[0;34m[\u001b[0m\u001b[0mq\u001b[0m\u001b[0;34m]\u001b[0m\u001b[0;34m\u001b[0m\u001b[0;34m\u001b[0m\u001b[0m\n\u001b[1;32m     21\u001b[0m   \u001b[0;32melif\u001b[0m\u001b[0;34m(\u001b[0m\u001b[0mi\u001b[0m\u001b[0;34m<\u001b[0m\u001b[0mq\u001b[0m\u001b[0;34m)\u001b[0m\u001b[0;34m:\u001b[0m \u001b[0;32mreturn\u001b[0m \u001b[0mRselect\u001b[0m\u001b[0;34m(\u001b[0m\u001b[0ma\u001b[0m\u001b[0;34m,\u001b[0m\u001b[0mlow\u001b[0m\u001b[0;34m,\u001b[0m\u001b[0mq\u001b[0m\u001b[0;34m-\u001b[0m\u001b[0;36m1\u001b[0m\u001b[0;34m,\u001b[0m\u001b[0mi\u001b[0m\u001b[0;34m)\u001b[0m\u001b[0;34m\u001b[0m\u001b[0;34m\u001b[0m\u001b[0m\n\u001b[0;32m---> 22\u001b[0;31m   \u001b[0;32melse\u001b[0m\u001b[0;34m:\u001b[0m \u001b[0;32mreturn\u001b[0m \u001b[0mRselect\u001b[0m\u001b[0;34m(\u001b[0m\u001b[0ma\u001b[0m\u001b[0;34m,\u001b[0m\u001b[0mq\u001b[0m\u001b[0;34m+\u001b[0m\u001b[0;36m1\u001b[0m\u001b[0;34m,\u001b[0m\u001b[0mhigh\u001b[0m\u001b[0;34m,\u001b[0m\u001b[0mi\u001b[0m\u001b[0;34m-\u001b[0m\u001b[0mk\u001b[0m\u001b[0;34m)\u001b[0m\u001b[0;34m\u001b[0m\u001b[0;34m\u001b[0m\u001b[0m\n\u001b[0m\u001b[1;32m     23\u001b[0m \u001b[0;34m\u001b[0m\u001b[0m\n\u001b[1;32m     24\u001b[0m \u001b[0;34m\u001b[0m\u001b[0m\n",
            "\u001b[0;32m<ipython-input-477-0ef1378b50ec>\u001b[0m in \u001b[0;36mRselect\u001b[0;34m(a, low, high, i)\u001b[0m\n\u001b[1;32m     19\u001b[0m   \u001b[0;32mif\u001b[0m\u001b[0;34m(\u001b[0m\u001b[0mi\u001b[0m\u001b[0;34m==\u001b[0m\u001b[0mq\u001b[0m\u001b[0;34m)\u001b[0m\u001b[0;34m:\u001b[0m\u001b[0;34m\u001b[0m\u001b[0;34m\u001b[0m\u001b[0m\n\u001b[1;32m     20\u001b[0m     \u001b[0;32mreturn\u001b[0m \u001b[0ma\u001b[0m\u001b[0;34m[\u001b[0m\u001b[0mq\u001b[0m\u001b[0;34m]\u001b[0m\u001b[0;34m\u001b[0m\u001b[0;34m\u001b[0m\u001b[0m\n\u001b[0;32m---> 21\u001b[0;31m   \u001b[0;32melif\u001b[0m\u001b[0;34m(\u001b[0m\u001b[0mi\u001b[0m\u001b[0;34m<\u001b[0m\u001b[0mq\u001b[0m\u001b[0;34m)\u001b[0m\u001b[0;34m:\u001b[0m \u001b[0;32mreturn\u001b[0m \u001b[0mRselect\u001b[0m\u001b[0;34m(\u001b[0m\u001b[0ma\u001b[0m\u001b[0;34m,\u001b[0m\u001b[0mlow\u001b[0m\u001b[0;34m,\u001b[0m\u001b[0mq\u001b[0m\u001b[0;34m-\u001b[0m\u001b[0;36m1\u001b[0m\u001b[0;34m,\u001b[0m\u001b[0mi\u001b[0m\u001b[0;34m)\u001b[0m\u001b[0;34m\u001b[0m\u001b[0;34m\u001b[0m\u001b[0m\n\u001b[0m\u001b[1;32m     22\u001b[0m   \u001b[0;32melse\u001b[0m\u001b[0;34m:\u001b[0m \u001b[0;32mreturn\u001b[0m \u001b[0mRselect\u001b[0m\u001b[0;34m(\u001b[0m\u001b[0ma\u001b[0m\u001b[0;34m,\u001b[0m\u001b[0mq\u001b[0m\u001b[0;34m+\u001b[0m\u001b[0;36m1\u001b[0m\u001b[0;34m,\u001b[0m\u001b[0mhigh\u001b[0m\u001b[0;34m,\u001b[0m\u001b[0mi\u001b[0m\u001b[0;34m-\u001b[0m\u001b[0mk\u001b[0m\u001b[0;34m)\u001b[0m\u001b[0;34m\u001b[0m\u001b[0;34m\u001b[0m\u001b[0m\n\u001b[1;32m     23\u001b[0m \u001b[0;34m\u001b[0m\u001b[0m\n",
            "\u001b[0;32m<ipython-input-477-0ef1378b50ec>\u001b[0m in \u001b[0;36mRselect\u001b[0;34m(a, low, high, i)\u001b[0m\n\u001b[1;32m     13\u001b[0m     \u001b[0;32mreturn\u001b[0m \u001b[0ma\u001b[0m\u001b[0;34m[\u001b[0m\u001b[0mlow\u001b[0m\u001b[0;34m]\u001b[0m\u001b[0;34m\u001b[0m\u001b[0;34m\u001b[0m\u001b[0m\n\u001b[1;32m     14\u001b[0m \u001b[0;34m\u001b[0m\u001b[0m\n\u001b[0;32m---> 15\u001b[0;31m   \u001b[0mq\u001b[0m \u001b[0;34m=\u001b[0m \u001b[0mrpivote\u001b[0m\u001b[0;34m(\u001b[0m\u001b[0ma\u001b[0m\u001b[0;34m,\u001b[0m\u001b[0mlow\u001b[0m\u001b[0;34m,\u001b[0m\u001b[0mhigh\u001b[0m\u001b[0;34m-\u001b[0m\u001b[0;36m1\u001b[0m\u001b[0;34m)\u001b[0m\u001b[0;34m\u001b[0m\u001b[0;34m\u001b[0m\u001b[0m\n\u001b[0m\u001b[1;32m     16\u001b[0m \u001b[0;34m\u001b[0m\u001b[0m\n\u001b[1;32m     17\u001b[0m   \u001b[0mk\u001b[0m \u001b[0;34m=\u001b[0m \u001b[0mq\u001b[0m \u001b[0;34m-\u001b[0m \u001b[0mlow\u001b[0m \u001b[0;34m+\u001b[0m \u001b[0;36m1\u001b[0m\u001b[0;34m\u001b[0m\u001b[0;34m\u001b[0m\u001b[0m\n",
            "\u001b[0;32m<ipython-input-477-0ef1378b50ec>\u001b[0m in \u001b[0;36mrpivote\u001b[0;34m(a, low, high)\u001b[0m\n\u001b[1;32m      3\u001b[0m \u001b[0;32mdef\u001b[0m \u001b[0mrpivote\u001b[0m\u001b[0;34m(\u001b[0m\u001b[0ma\u001b[0m\u001b[0;34m,\u001b[0m\u001b[0mlow\u001b[0m\u001b[0;34m,\u001b[0m\u001b[0mhigh\u001b[0m\u001b[0;34m)\u001b[0m\u001b[0;34m:\u001b[0m\u001b[0;34m\u001b[0m\u001b[0;34m\u001b[0m\u001b[0m\n\u001b[1;32m      4\u001b[0m \u001b[0;34m\u001b[0m\u001b[0m\n\u001b[0;32m----> 5\u001b[0;31m   \u001b[0mi\u001b[0m\u001b[0;34m=\u001b[0m\u001b[0mrandom\u001b[0m\u001b[0;34m.\u001b[0m\u001b[0mrandint\u001b[0m\u001b[0;34m(\u001b[0m\u001b[0mlow\u001b[0m\u001b[0;34m,\u001b[0m\u001b[0mhigh\u001b[0m\u001b[0;34m)\u001b[0m\u001b[0;34m\u001b[0m\u001b[0;34m\u001b[0m\u001b[0m\n\u001b[0m\u001b[1;32m      6\u001b[0m \u001b[0;34m\u001b[0m\u001b[0m\n\u001b[1;32m      7\u001b[0m   \u001b[0ma\u001b[0m\u001b[0;34m[\u001b[0m\u001b[0mhigh\u001b[0m\u001b[0;34m]\u001b[0m\u001b[0;34m,\u001b[0m\u001b[0ma\u001b[0m\u001b[0;34m[\u001b[0m\u001b[0mi\u001b[0m\u001b[0;34m]\u001b[0m\u001b[0;34m=\u001b[0m\u001b[0ma\u001b[0m\u001b[0;34m[\u001b[0m\u001b[0mi\u001b[0m\u001b[0;34m]\u001b[0m\u001b[0;34m,\u001b[0m\u001b[0ma\u001b[0m\u001b[0;34m[\u001b[0m\u001b[0mhigh\u001b[0m\u001b[0;34m]\u001b[0m\u001b[0;34m\u001b[0m\u001b[0;34m\u001b[0m\u001b[0m\n",
            "\u001b[0;32m/usr/lib/python3.7/random.py\u001b[0m in \u001b[0;36mrandint\u001b[0;34m(self, a, b)\u001b[0m\n\u001b[1;32m    220\u001b[0m         \"\"\"\n\u001b[1;32m    221\u001b[0m \u001b[0;34m\u001b[0m\u001b[0m\n\u001b[0;32m--> 222\u001b[0;31m         \u001b[0;32mreturn\u001b[0m \u001b[0mself\u001b[0m\u001b[0;34m.\u001b[0m\u001b[0mrandrange\u001b[0m\u001b[0;34m(\u001b[0m\u001b[0ma\u001b[0m\u001b[0;34m,\u001b[0m \u001b[0mb\u001b[0m\u001b[0;34m+\u001b[0m\u001b[0;36m1\u001b[0m\u001b[0;34m)\u001b[0m\u001b[0;34m\u001b[0m\u001b[0;34m\u001b[0m\u001b[0m\n\u001b[0m\u001b[1;32m    223\u001b[0m \u001b[0;34m\u001b[0m\u001b[0m\n\u001b[1;32m    224\u001b[0m     def _randbelow(self, n, int=int, maxsize=1<<BPF, type=type,\n",
            "\u001b[0;32m/usr/lib/python3.7/random.py\u001b[0m in \u001b[0;36mrandrange\u001b[0;34m(self, start, stop, step, _int)\u001b[0m\n\u001b[1;32m    198\u001b[0m             \u001b[0;32mreturn\u001b[0m \u001b[0mistart\u001b[0m \u001b[0;34m+\u001b[0m \u001b[0mself\u001b[0m\u001b[0;34m.\u001b[0m\u001b[0m_randbelow\u001b[0m\u001b[0;34m(\u001b[0m\u001b[0mwidth\u001b[0m\u001b[0;34m)\u001b[0m\u001b[0;34m\u001b[0m\u001b[0;34m\u001b[0m\u001b[0m\n\u001b[1;32m    199\u001b[0m         \u001b[0;32mif\u001b[0m \u001b[0mstep\u001b[0m \u001b[0;34m==\u001b[0m \u001b[0;36m1\u001b[0m\u001b[0;34m:\u001b[0m\u001b[0;34m\u001b[0m\u001b[0;34m\u001b[0m\u001b[0m\n\u001b[0;32m--> 200\u001b[0;31m             \u001b[0;32mraise\u001b[0m \u001b[0mValueError\u001b[0m\u001b[0;34m(\u001b[0m\u001b[0;34m\"empty range for randrange() (%d,%d, %d)\"\u001b[0m \u001b[0;34m%\u001b[0m \u001b[0;34m(\u001b[0m\u001b[0mistart\u001b[0m\u001b[0;34m,\u001b[0m \u001b[0mistop\u001b[0m\u001b[0;34m,\u001b[0m \u001b[0mwidth\u001b[0m\u001b[0;34m)\u001b[0m\u001b[0;34m)\u001b[0m\u001b[0;34m\u001b[0m\u001b[0;34m\u001b[0m\u001b[0m\n\u001b[0m\u001b[1;32m    201\u001b[0m \u001b[0;34m\u001b[0m\u001b[0m\n\u001b[1;32m    202\u001b[0m         \u001b[0;31m# Non-unit step argument supplied.\u001b[0m\u001b[0;34m\u001b[0m\u001b[0;34m\u001b[0m\u001b[0;34m\u001b[0m\u001b[0m\n",
            "\u001b[0;31mValueError\u001b[0m: empty range for randrange() (4,3, -1)"
          ]
        }
      ]
    }
  ]
}