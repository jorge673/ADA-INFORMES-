{
  "nbformat": 4,
  "nbformat_minor": 0,
  "metadata": {
    "colab": {
      "provenance": [],
      "collapsed_sections": [],
      "authorship_tag": "ABX9TyPmJtjx500RHWqX3EwSrav9",
      "include_colab_link": true
    },
    "kernelspec": {
      "name": "python3",
      "display_name": "Python 3"
    },
    "language_info": {
      "name": "python"
    }
  },
  "cells": [
    {
      "cell_type": "markdown",
      "metadata": {
        "id": "view-in-github",
        "colab_type": "text"
      },
      "source": [
        "<a href=\"https://colab.research.google.com/github/jorge673/ADA-INFORMES-/blob/main/informe-caminomascorto.ipynb\" target=\"_parent\"><img src=\"https://colab.research.google.com/assets/colab-badge.svg\" alt=\"Open In Colab\"/></a>"
      ]
    },
    {
      "cell_type": "markdown",
      "source": [
        "#1. **Descripccion del Problama:** \n",
        "---\n",
        "##1.1 **Camino mas corto**\n",
        "\n",
        "Como el nombre indica esta problematica nos ayuda a econtrar el camino mas corto de un nodo inicial hasta todos los nodos de un grafo que contenga todos los vertices mencionado\n",
        "\n",
        "la distancia de un nodo $u$ hasta un nodo $v$, se calcula sumando todos los arcos que se recorre desde $u$ hasta $v$\n",
        "\n",
        ">**Entrada:** un grafo $G(V,E)$ (siendo $V$ los vertices, y E los arcos), $s$ un nodo inicial perteneciente a $v$, y un valor real $l_e \\geq 0$ asociado a cada arco $e\\in E$.\n",
        ">\n",
        ">**Salida:** la distancia mas corta entre $l(s,v)$ siendo $v$ los nodos perteneciente a $V$\n",
        "\n",
        "![image](https://i.imgur.com/6sgT9qo.png)\n",
        "\n",
        "este problema nos podria servir por ejemplo a calcular distancias cortas entre ciudades o podria ayudar para saver direcciones para encontrar archivos, aun asi para este tipo de caso los arcos siempre seran positivos pero si llega a ingresar un arco negativo este no podra resolverlo, para eso esta la siguiente variante del problema\n",
        "\n",
        "##1.2 **Camino mas corto (arcos negativos)**\n",
        "\n",
        "muy parecido al punto 1.1 pero con la diferencia que tenemos que tenemos que identificar cuando la suma de todos los arcos da negativo ya que si llega a ser negeativo significa que se producen ciclos\n",
        "\n",
        ">**Entrada:** un grafo $G(V,E)$ (siendo $V$ los vertices, y E los arcos), $s$ un nodo inicial perteneciente a $v$, y un valor real $l_e \\geq 0$ asociado a cada arco $e\\in E$.\n",
        ">\n",
        ">**Salida:** 2 opciones:\n",
        "* la distancia mas corta entre $l(s,v)$ siendo $v$ los nodos perteneciente a $V$\n",
        "* Alguna declaracion que nos indique que $G$ tiene un ciclo negativo\n"
      ],
      "metadata": {
        "id": "ToZE3zZLi52G"
      }
    },
    {
      "cell_type": "markdown",
      "source": [
        "#2. **Algoritmos que resuelven este problema**\n",
        "---\n",
        "Antes de explicar cada funcion tenemos que definir algunas funciones:\n",
        "\n",
        "####**Iniciar-fuente-unica**:\n",
        "\n",
        ">![init](https://i.imgur.com/aXf4aqB.png)\n",
        "\n",
        "\n",
        "\n",
        "\n",
        "\n"
      ],
      "metadata": {
        "id": "B8Tb2vwdrhXM"
      }
    },
    {
      "cell_type": "code",
      "source": [
        "import sys\n",
        "\n",
        "def Ifu(n,s):\n",
        "  dist=[sys.maxsize for n in range(n)]\n",
        "  child=[None for n in range(n)]\n",
        "  dist[s]=0\n",
        "\n",
        "  return dist,child\n"
      ],
      "metadata": {
        "id": "H8vj1sFUhhRo"
      },
      "execution_count": null,
      "outputs": []
    },
    {
      "cell_type": "markdown",
      "source": [
        "####**Relajar**:\n",
        ">![relax](https://i.imgur.com/heis5FT.png)"
      ],
      "metadata": {
        "id": "Fd_Iy8nhhZGD"
      }
    },
    {
      "cell_type": "code",
      "source": [
        "def relax(u,v,w,dist,child):\n",
        "  if dist[v]> dist[u] + w:\n",
        "    dist[v]= dist[u] + w\n",
        "    child[v] = u\n"
      ],
      "metadata": {
        "id": "0uydkDQ7isyT"
      },
      "execution_count": null,
      "outputs": []
    },
    {
      "cell_type": "markdown",
      "source": [
        "## 2.1 **Algoritmo de Dijkstra:**\n",
        "---\n",
        "\n"
      ],
      "metadata": {
        "id": "mwo9hEiogncG"
      }
    },
    {
      "cell_type": "markdown",
      "source": [
        "![image.png](data:image/png;base64,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)"
      ],
      "metadata": {
        "id": "zEHy4kXjrFPY"
      }
    },
    {
      "cell_type": "code",
      "source": [
        "def disktra(G,s,n):\n",
        "  dist,child=Ifu(n,s)\n",
        "  w = [[0 for x in range(n)] for x in range(n)]\n",
        "\n",
        "  for u,v,p in G:\n",
        "    w[u][v]=p\n",
        "\n",
        "  for i in range(n):\n",
        "    \n",
        "    for j in range(n):\n",
        "      if w[i][j]>0:\n",
        "        \n",
        "        relax(i,j,w[i][j],dist,child)\n",
        "  return dist\n",
        "G=[(0, 2, 70), (0, 1, 43), (1, 4, 60), (1, 2, 7), (3, 0, 40), (3, 4, 70), (4, 2, 53), (4, 2, 89), (2, 3, 79)]\n",
        "n=5\n",
        "\n",
        "disktra(G,0,n)"
      ],
      "metadata": {
        "colab": {
          "base_uri": "https://localhost:8080/"
        },
        "id": "9LO_mWzNhSPV",
        "outputId": "8ee4e078-7ade-4626-d910-2ae11a48807a"
      },
      "execution_count": null,
      "outputs": [
        {
          "output_type": "execute_result",
          "data": {
            "text/plain": [
              "[0, 43, 50, 129, 103]"
            ]
          },
          "metadata": {},
          "execution_count": 61
        }
      ]
    },
    {
      "cell_type": "markdown",
      "source": [
        "Este algortimo utiliza los arcos mas cortos que coneta desde el nodo de origen y luego repite este proceso hasta llegar a todos los nodos del grafo\n"
      ],
      "metadata": {
        "id": "7fk_IhMDhQrF"
      }
    },
    {
      "cell_type": "markdown",
      "source": [
        "##2.2 **Algoritmo de Bellman-ford**\n",
        "---"
      ],
      "metadata": {
        "id": "F44zxi3LhCP7"
      }
    },
    {
      "cell_type": "code",
      "source": [
        "def bellmanFord(G,s,n):\n",
        "  dist,child=Ifu(n,s)\n",
        "\n",
        "  for i in range(n):\n",
        "    for u,v,w in G:\n",
        "      relax(u,v,w,dist,child)\n",
        "  for u,v,w in G:\n",
        "    if dist[v]>dist[u]+w:\n",
        "      return []\n",
        "\n",
        "  return dist\n",
        "\n",
        "G=[(0, 2, 70), (0, 1, 43), (1, 4, 60), (1, 2, 7), (3, 0, 40), (3, 4, 70), (4, 2, 53), (4, 2, 89), (2, 3, 79)]\n",
        "n=5\n",
        "\n",
        "bellmanFord(G,0,n)\n"
      ],
      "metadata": {
        "colab": {
          "base_uri": "https://localhost:8080/"
        },
        "id": "mNXJdq4FhDkE",
        "outputId": "8c44b20c-83d4-4189-f526-444ac0f77f2e"
      },
      "execution_count": 87,
      "outputs": [
        {
          "output_type": "execute_result",
          "data": {
            "text/plain": [
              "[0, 43, 50, 129, 103]"
            ]
          },
          "metadata": {},
          "execution_count": 87
        }
      ]
    },
    {
      "cell_type": "markdown",
      "source": [
        "\n",
        "Bellman-ford nos puede ayudar a resolver el problema del camino mas corto pero arcos negativos visto en el punto 1.2, para resolver el problema el algortimo funciona muy similar a drijkstra, pero no lo resuelve de manera voraz si no que en vez de tomar los arcos con menos elementos, relaja los vertices y repite este proceso $V-1$ veces, las repeticiones nos ayudan a que cada arco minimo recorra todos los vertices, no como Dijkstra que depende que el arco positivo\n",
        "\n",
        "###**2.2.1 Sub-estructura optima**:\n",
        "Supongamos que la cantidad de arcos de la ruta óptima $P$ para ir de $s$ a $v$ es $i$. De manera similar a otros problemas que hemos visto, la ruta más corta $P$ la podríamos obtener calculando las rutas más cortas $P’$  entre $s$ y un nodo intermedio $w$, limitada a $i-1$ arcos. Luego, sumaríamos la distancia entre $w$ y $v$, y nos quedaríamos con la mejor alternativa.\n",
        "\n",
        "#### **Lema (subestructura óptima):**\n",
        "\n",
        "*Sea $G=(V,E)$ un grafo dirigido con largo de arcos reales y una fuente $s \\in V$. Suponiendo que $i \\geq 1$ y $v\\in V$, y sea $P$ la ruta más corta $s \\leadsto v$ en $G$ con $i$ arcos o menos. Entonces, una de las dos afirmaciones siguientes es verdadera:*\n",
        "- $P$ es la ruta más corta con $i-1$ arcos o menos.*\n",
        "- $P$ es, para algún valor $w \\in V$, la ruta más corta $s\\leadsto w$ con $i-1$ arcos o menos, adicionada con el arco $(w,v) \\in E$.*\n",
        "\n",
        "###**2.2.2 Funcion de recurrencia**:\n",
        "Una vez comprendidos los subproblemas que iremos creando, podemos definir la función de recurrencia. \n",
        "\n",
        "Consideremos como $L_{i,v}$ el largo mínimo de un camino $s\\leadsto v$ con a lo más $i-1$ arcos y ciclos permitidos. Luego, para todo $i\\geq 1$ y $v \\in V$ tenemos que:\n",
        "\n",
        "$L_{i,v} =\n",
        "\\min \\left\\{\n",
        " \\begin{array}{cc}\n",
        " L_{i-1,v} & \\text{(case 1)} \\\\\n",
        " \\min\\limits_{(w,v)\\in E} \\{L_{i-1,w}+l_{wv}\\} & \\text{(case 2)}\n",
        "    \t\\end{array}\n",
        "\\right\\}$\n",
        "\n",
        "Los **subproblemas de base** serían, para todo $v\\in V$:\n",
        "\n",
        "$L_{0,v} =\n",
        "\\left\\{\n",
        "\\begin{array}{cc}\n",
        "0 & \\text{si $$s=v$$} \\\\\n",
        "+\\infty & \\text{en otro caso.}\n",
        "\\end{array}\n",
        "\\right.$\n",
        "\n",
        "###**2.2.3 Pseudo-codigo**:\n",
        "![bmf](https://i.imgur.com/WragfVN.png)\n",
        "\n",
        "* Se inicianlizan los vertices\n",
        "* **Relajamos** todos los vertices\n",
        "* Verificamos que la suma de cada arco no sea negativa, si lo es se retorna FALSO\n",
        "* Al terminar retornamos VERDADERO indicando que el problema ya fue resuelto\n"
      ],
      "metadata": {
        "id": "q36Ua6vRg4_d"
      }
    },
    {
      "cell_type": "markdown",
      "source": [
        "#3. **Correctitud**\n",
        "---\n",
        "##3.1 **correctitud Bellman-ford**\n",
        "\n",
        "Teorema:\n",
        ">_\"despues de cada i-esima iteracion si la distancia(u) no es infinito, es igual a la longitud de algun arcos y si hay un camino de $s$ hasta $u$ con como maximo $i$ aritstas entonces la distancia(u) es la longitud del camino mas corto de $s$ a $u$ como maximo $i$ aristas\"_\n",
        "\n",
        "Prueba:\n",
        "\n",
        "caso base: concideramos i=0 y el momento antes del ciclo `for` entonces para el vertice de inicio $s$ la distancia es 0 lo cual es correcto ya que la distancia de $s$ hasta $s$ es 0. para los otros vertices $u$ la distancia es **infinito** ya que no existe un camino de $s$ hasta $u$ con 0 arcos\n",
        "\n",
        "caso inductivo:\n",
        "\n",
        "Vamos a provar la primera parte, consideramos la parte cuando un vertice se actualiza `si v.d > u.d + w(u,v)`(2.2.2), suponemos que la `u.d` es la distancia de la fuente hasta $u$ y `u.d + w(u,v)` es `v.d` osea la longitud de la fuente hasta $v$ que sigue el camino desde la fuente hasta u y luego va por v.\n",
        "\n",
        "Para la segunda parte considere un camino mas corto $P$ (puede haber mas de uno) desde la fuente hasta $v$ con un maximo de arcos $i$, si $u$ es el ultimo vertice antes de $v$ en el camino $P$ entonces la parte del camino desde la fuente hasta $u$ es el camino más corto desde la fuente hasta u con como máximo $i$-1 arcos, porque si no lo fuera debe haber estrictamente un camino desde la fuente hasta $u$ con por lo menos i-1 vertices, luego podemos agregar el arco $u$ hasta $v$ y seria un camino mas corto $P$ lo cual es una contradiccion.\n",
        "\n",
        "Asumiendo por induccion la distancia de $u$ despues de $i-1$ iteraciones is a lo mas el tamaño del camino de la fuente hasta $u$, por lo cual la distancia el peso de arco(u,v) + la distancia de $u$, es a lo mas el tamaño de $P$. en la $i$-esima iteracion la distancia de v se puede comparar con el arco(u,v) + la distancia de $u$, y se asigna de la misma manera que si arco(u,v) + la distancia de $u$ fuera pequeño, por lo cual despues de $i$ iteraciones la distancia de v es a lo mas el tamaño de $P$ es decir que el largo del camino mas corto de la fuente hasta el vertice $v$ tiene la cantidad de $i$ arcos\n",
        "\n",
        "Si no hay ciclos de peso-negativos cada camino corto visita cada vertice a lo mas una vez, entonces en el tercer paso\n",
        "no se puede hacer ninguna mejora. En el caso contrario suponga que no se pueda hacer ninguna mejora,  Entonces para cualquier ciclo con vértices v [0], ..., v [ k −1],\n",
        "\n",
        "$v[i].distance <= v[i-1 ($modulo $k)].distance + v[i-1 (modulo k)]v[i].weight$\n",
        "\n",
        "Sumando alrededor del ciclo, los términos distancia dev[i] y distancia de v[i −1(modulo k )] se cancelan, dejando\n",
        "\n",
        "$0 <= sum$ desde 1 hasta k de $v[i-1 ($modulo $k)]$ $v[i].peso$\n",
        "\n",
        "Es decir, cada ciclo tiene un peso no negativo.\n",
        "\n",
        "Asi podemos porbar que el algoritmo de bellman-ford es correcto\n"
      ],
      "metadata": {
        "id": "f4yXAVjMD0xd"
      }
    },
    {
      "cell_type": "markdown",
      "source": [
        "#4. **Complejida**\n",
        "---\n",
        "##4.1 **Bellman-Ford**\n",
        "Para calcular la complejida temporal tenemos que analisar cada paso y calcular cuanto se demoran \n",
        "\n",
        "1. Primero iniciamos las distancia de cada uno de los vertices con infinito o algun numero que sea lo suficientemente grande, este proceso se demora $O(V)$ siendo $V$ los vertices de $G$\n",
        "\n",
        "2. A cada vertice del grafo, recorremos sus arcos y se relajan osea que se calcula el camino mas corto a estos, recorrer los vertices demora $O(V)$, recorrer los arcos y la relajacion de un arco demora $O(1)$ todos juntos equivalen a $O(V*E)$ siendo $V$ los vertices de $G$ y $E$ arcos de $G$\n",
        "\n",
        "3. finalmente se recorren todos los arco para verificar que no exista ninguna distancia negativa lo cual demora O(E)\n",
        "\n",
        "tomando todos los pasos necesarios podemos sumar cuanto tardan cada uno de ellos y asi poder caluclar cuanto vale su complejidad temporal\n",
        "\n",
        "$$T(n) = O(V) + O(VE) + O(E)$$\n",
        "\n",
        "dando como resulatdo que la complejidad temporal es $O(VE)$"
      ],
      "metadata": {
        "id": "okoSNU5XWOCO"
      }
    },
    {
      "cell_type": "markdown",
      "source": [
        "#5. Experimentos\n",
        "---"
      ],
      "metadata": {
        "id": "7EBTkD8_3tPN"
      }
    },
    {
      "cell_type": "code",
      "source": [
        "import random\n",
        "\n",
        "def is_valid_edge(generated_edges: dict, i: int, j: int):\n",
        "    return i != j and not generated_edges.get((i, j), None) and not generated_edges.get((j, i), None)\n",
        "\n",
        "def instance_generator(n: int):\n",
        "    \"\"\"\n",
        "        Input: cantidad de vértices\n",
        "        Output: una lista que contiene todos los arcos y el número del vértice fuente (la función retorna dos variables).\n",
        "        Los arcos vienen en la forma (i, j, weight), donde i es el vértice origen del arco y j el vértice al que apunta el arco, mientras que weight es su peso.\n",
        "    \"\"\"\n",
        "    graph = []\n",
        "    nodes = random.sample(range(0, n), n)\n",
        "    unvisited_nodes = random.sample(range(0, n), n)\n",
        "    \n",
        "    generated_edges = {}\n",
        "    for i in nodes:\n",
        "        rand = random.sample(nodes, random.randint(1, 3))\n",
        "\n",
        "        for j in rand:\n",
        "            edge = (i, j)\n",
        "            edge_with_weight = (i, j, random.randint(1, 100))\n",
        "            \n",
        "            if generated_edges.get((edge[1], edge[0]), None):\n",
        "                continue\n",
        "            \n",
        "            if i == j:\n",
        "                new_vertice = None\n",
        "                iterations = 0\n",
        "                while new_vertice is None and iterations < 250:\n",
        "                    iterations += 1\n",
        "                    number = random.randint(0, n - 1)\n",
        "                    if is_valid_edge(generated_edges, i, number):\n",
        "                        new_vertice = number\n",
        "\n",
        "                if iterations >= 250:\n",
        "                    return instance_generator(n)\n",
        "                \n",
        "                edge = (i, new_vertice)\n",
        "                edge_with_weight = (i, new_vertice, random.randint(-25, 100)) # -25 y 100 corresponde a los límites de los pesos, puede cambiarlos.\n",
        "            \n",
        "            graph.append(edge_with_weight)\n",
        "            generated_edges[edge] = edge\n",
        "\n",
        "            if edge_with_weight[1] in unvisited_nodes:\n",
        "                unvisited_nodes.remove(edge_with_weight[1])\n",
        "\n",
        "    for i in unvisited_nodes:\n",
        "        valid_edge = False\n",
        "        iterations = 0\n",
        "        while not valid_edge and iterations < 250:\n",
        "            iterations += 1\n",
        "            m = random.randint(0, n - 1)\n",
        "            if is_valid_edge(generated_edges, m, i):\n",
        "                valid_edge = True\n",
        "                edge = (m, i)\n",
        "                edge_with_weight = (m, i, random.randint(-25, 100)) # -25 y 100 corresponde a los límites de los pesos, puede cambiarlos.\n",
        "                graph.append(edge_with_weight)\n",
        "                generated_edges[edge] = edge\n",
        "\n",
        "        if iterations >= 250:\n",
        "            return instance_generator(n)\n",
        "\n",
        "    return graph, graph[0][0]"
      ],
      "metadata": {
        "id": "bdRBe6IX4eru"
      },
      "execution_count": null,
      "outputs": []
    },
    {
      "cell_type": "markdown",
      "source": [
        "##5.1 **Tiempo de Bellman-Ford en 25 casos**\n"
      ],
      "metadata": {
        "id": "P3bFoudk30tT"
      }
    },
    {
      "cell_type": "code",
      "source": [
        "import matplotlib.pyplot as plt\n",
        "import datetime\n",
        "from timeit import repeat\n",
        "from copy import deepcopy\n",
        "import random\n",
        "\n",
        "x=[]\n",
        "y_b = []\n",
        "\n",
        "for n in range(5,31):\n",
        "  grafo,nodo = instance_generator(n)\n",
        "\n",
        "  t_Kruskal = repeat(setup=\"from __main__ import bellmanFord\", stmt=f\"bellmanFord({grafo},{nodo},{n})\", repeat=1, number=10)\n",
        "\n",
        "  x.append(n)\n",
        "  y_b.append(t_Kruskal)\n",
        "\n",
        "\n",
        "plt.plot(x,y_b)\n",
        "\n",
        "plt.legend([\"Kruskal\", \"Prim\"])\n",
        "\n",
        "plt.xlabel('n')\n",
        "plt.ylabel('Tiempo en ms')\n",
        "plt.show()"
      ],
      "metadata": {
        "colab": {
          "base_uri": "https://localhost:8080/",
          "height": 279
        },
        "id": "A4m-uoJI3swO",
        "outputId": "f6c128a4-3a2e-4f93-ade2-a7b1b9993805"
      },
      "execution_count": 91,
      "outputs": [
        {
          "output_type": "display_data",
          "data": {
            "text/plain": [
              "<Figure size 432x288 with 1 Axes>"
            ],
            "image/png": "[encoded data removed]"
          },
          "metadata": {
            "needs_background": "light"
          }
        }
      ]
    },
    {
      "cell_type": "markdown",
      "source": [
        "* los casos varian con el tamaño de n pero eso no quiere decir que un caso anterior sea menor a uno con mucho mas tamaño ya que depende de los arcos y cuanto es el tamaño que tengan estos y el largo por ejemplo puede haber el caso que solo alla un arco prinsipal 0-1 1-2 2-3 ... (n-1)-n por lo cual solo hay un camino el cual es muy largo"
      ],
      "metadata": {
        "id": "SU17GWlW7JBs"
      }
    }
  ]
}