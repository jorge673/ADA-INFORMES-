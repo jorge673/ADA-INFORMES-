{
  "nbformat": 4,
  "nbformat_minor": 0,
  "metadata": {
    "colab": {
      "provenance": [],
      "collapsed_sections": [],
      "authorship_tag": "ABX9TyNSds+fWFfhLENdWRadLqme",
      "include_colab_link": true
    },
    "kernelspec": {
      "name": "python3",
      "display_name": "Python 3"
    },
    "language_info": {
      "name": "python"
    }
  },
  "cells": [
    {
      "cell_type": "markdown",
      "metadata": {
        "id": "view-in-github",
        "colab_type": "text"
      },
      "source": [
        "<a href=\"https://colab.research.google.com/github/jorge673/ADA-INFORMES-/blob/main/informe-ProblemaDeVarillas.ipynb\" target=\"_parent\"><img src=\"https://colab.research.google.com/assets/colab-badge.svg\" alt=\"Open In Colab\"/></a>"
      ]
    },
    {
      "cell_type": "markdown",
      "source": [
        "#**1. Descripcion del problema**\n",
        "---\n",
        "##Problema de corte de varrillas\n",
        "**inicio**:Largo de una varilla y un arrelgo con los precio de cada tamaño de cada varilla $p_i=[p_1,p_2,p_3,...,p_i]$\n",
        "\n",
        "**salida**:el $r_i$ con mayor precio, el cual es el precio que cortas y vendes las varillas \n",
        "\n",
        ">![imagen 1](https://i.imgur.com/CxesTZe.png)\n",
        "\n",
        "El problema nos permite resolver el algoritmo de dos maneras; de forma recursiva y con programacion dinamica \n",
        "\n",
        "la verdad que apesar de que es muy simple lo que mas se quiere de este porblema es su eficiencia, con esto se refiere por ejemplo que no se calculen dos o mas veces el mismo problema"
      ],
      "metadata": {
        "id": "JPHQcgGZUxCe"
      }
    },
    {
      "cell_type": "markdown",
      "source": [
        "#**2. Descripcion del alogritmo**\n",
        "---\n",
        "##2.1 **Recursivo**\n"
      ],
      "metadata": {
        "id": "618Y9j950aNt"
      }
    },
    {
      "cell_type": "code",
      "source": [
        "import sys \n",
        "\n",
        "def rodCut(price, n,verbose=False):\n",
        "\n",
        "    global recurciones\n",
        "\n",
        "    if n == 0:\n",
        "        return 0\n",
        "    maxValue = -sys.maxsize\n",
        "\n",
        "    recurciones+=1\n",
        " \n",
        "    for i in range(1, n + 1):\n",
        "\n",
        "        a=rodCut(price, n - i)\n",
        " \n",
        "        cost = price[i - 1] + rodCut(price, n - i,verbose)\n",
        "\n",
        "        if(verbose):\n",
        "          \n",
        "          print(\"RodCut de vara tamaño\",n)\n",
        "          print(\"   vara de tamaño \",i,\"=\",price[i-1],\"\\n   rodCut de\",n-i,\" =\",a,\"\\n   costo =\",cost,)\n",
        " \n",
        "        if cost > maxValue:\n",
        "            \n",
        "            maxValue = cost\n",
        "            if(verbose):\n",
        "              print(\"-------Valor maximo =\",cost,\"\\n\")\n",
        "        elif verbose:\n",
        "            print(\"\\n\")\n",
        "\n",
        "    if(verbose):\n",
        "      print(\"VALOR DE RETORNO de rodcut de\",n,\" es de\",maxValue,\"\\n------------------------------------\\n\")\n",
        " \n",
        "    return maxValue\n",
        "\n",
        "recurciones=0\n",
        "\n",
        "c=[1,1,1,1,1]\n",
        "\n",
        "print(rodCut(c,4,False), recurciones)"
      ],
      "metadata": {
        "colab": {
          "base_uri": "https://localhost:8080/"
        },
        "id": "Oe-yIOCH5L9U",
        "outputId": "bbb65df9-9742-4820-cd98-d80861fc67cf"
      },
      "execution_count": 204,
      "outputs": [
        {
          "output_type": "stream",
          "name": "stdout",
          "text": [
            "4 27\n"
          ]
        }
      ]
    },
    {
      "cell_type": "markdown",
      "source": [
        "##2.1.1 **Descripcion recursivo**\n",
        "---\n",
        "El algoritomo hace la siguientes operaciones:\n",
        ">recive 2 paramaetros:\n",
        ">* `price`: es el arrelgo con el precio de cada vara de tamaño $i$\n",
        ">* `n`: es el la longitud de la barrilla \n",
        ">\n",
        ">Este genera un valor maximo=(el menor numero posible) y luego trata de buscar la mejor manera de cortar la varrilla de tamaño n para conseguir esto el aglorimo itera $i$ en un intervalo entre $[1,n+1]$.\n",
        ">\n",
        ">Calcula el costo de entre la varilla $i$ y la varilla $n-i$ y analisa si este es el maximo.\n",
        ">\n",
        ">Por ultimo el algorimo retorna el valor maximo.\n",
        "\n",
        "este algoritmo usa el paradigma divide y venceras para resolver este porblema, lo que hace que divida el problema en mas sub-problemas para luego resolverlos y juntarlos.\n",
        "\n",
        "##2.1.2 **Ejemplo**\n",
        "---\n",
        "\n",
        "veamos un caso de una varilla de tamaño 4:\n",
        "\n",
        "\n",
        "\n",
        "![imagen1](https://www.techiedelight.com/wp-content/uploads/Rod-Cutting-Problem.png)\n",
        "\n",
        "A pezar que pueda entrega un resulatado claro este tiene un problema y es que puede lleagar a resolver dos o mas veces un mismo problema, como por ejemplo de la imagen anterior el cual repite dos veces el trabajo de la varilla de tamaño 2\n",
        "\n",
        "para solucionar esto podemos usar Programacion dinamica para resolver \n",
        "\n",
        "\n",
        "\n",
        "\n"
      ],
      "metadata": {
        "id": "_gz5nqR8p4h4"
      }
    },
    {
      "cell_type": "markdown",
      "source": [
        "### 2.1.3 **Ejemplo Codigo**"
      ],
      "metadata": {
        "id": "t52dUg85b23N"
      }
    },
    {
      "cell_type": "code",
      "source": [
        "\n",
        "precios=[1,2,2,5,8]\n",
        "recurciones=0\n",
        "print(\"valor maximo =\",rodCut(c,4,True),\"\\nCantidad de llamada a CutRod\", recurciones)"
      ],
      "metadata": {
        "colab": {
          "base_uri": "https://localhost:8080/"
        },
        "id": "EMKX2SYNbRKw",
        "outputId": "d2e9bc9d-4dd8-424a-9746-e13d117923dd"
      },
      "execution_count": 156,
      "outputs": [
        {
          "output_type": "stream",
          "name": "stdout",
          "text": [
            "RodCut de vara tamaño 1\n",
            "   vara de tamaño  1 = 1 \n",
            "   rodCut de 0  = 0 \n",
            "   costo = 1\n",
            "-------Valor maximo = 1 \n",
            "\n",
            "VALOR DE RETORNO de rodcut de 1  es de 1 \n",
            "------------------------------------\n",
            "\n",
            "RodCut de vara tamaño 2\n",
            "   vara de tamaño  1 = 1 \n",
            "   rodCut de 1  = 1 \n",
            "   costo = 2\n",
            "-------Valor maximo = 2 \n",
            "\n",
            "RodCut de vara tamaño 2\n",
            "   vara de tamaño  2 = 1 \n",
            "   rodCut de 0  = 0 \n",
            "   costo = 1\n",
            "\n",
            "\n",
            "VALOR DE RETORNO de rodcut de 2  es de 2 \n",
            "------------------------------------\n",
            "\n",
            "RodCut de vara tamaño 3\n",
            "   vara de tamaño  1 = 1 \n",
            "   rodCut de 2  = 2 \n",
            "   costo = 3\n",
            "-------Valor maximo = 3 \n",
            "\n",
            "RodCut de vara tamaño 1\n",
            "   vara de tamaño  1 = 1 \n",
            "   rodCut de 0  = 0 \n",
            "   costo = 1\n",
            "-------Valor maximo = 1 \n",
            "\n",
            "VALOR DE RETORNO de rodcut de 1  es de 1 \n",
            "------------------------------------\n",
            "\n",
            "RodCut de vara tamaño 3\n",
            "   vara de tamaño  2 = 1 \n",
            "   rodCut de 1  = 1 \n",
            "   costo = 2\n",
            "\n",
            "\n",
            "RodCut de vara tamaño 3\n",
            "   vara de tamaño  3 = 1 \n",
            "   rodCut de 0  = 0 \n",
            "   costo = 1\n",
            "\n",
            "\n",
            "VALOR DE RETORNO de rodcut de 3  es de 3 \n",
            "------------------------------------\n",
            "\n",
            "RodCut de vara tamaño 4\n",
            "   vara de tamaño  1 = 1 \n",
            "   rodCut de 3  = 3 \n",
            "   costo = 4\n",
            "-------Valor maximo = 4 \n",
            "\n",
            "RodCut de vara tamaño 1\n",
            "   vara de tamaño  1 = 1 \n",
            "   rodCut de 0  = 0 \n",
            "   costo = 1\n",
            "-------Valor maximo = 1 \n",
            "\n",
            "VALOR DE RETORNO de rodcut de 1  es de 1 \n",
            "------------------------------------\n",
            "\n",
            "RodCut de vara tamaño 2\n",
            "   vara de tamaño  1 = 1 \n",
            "   rodCut de 1  = 1 \n",
            "   costo = 2\n",
            "-------Valor maximo = 2 \n",
            "\n",
            "RodCut de vara tamaño 2\n",
            "   vara de tamaño  2 = 1 \n",
            "   rodCut de 0  = 0 \n",
            "   costo = 1\n",
            "\n",
            "\n",
            "VALOR DE RETORNO de rodcut de 2  es de 2 \n",
            "------------------------------------\n",
            "\n",
            "RodCut de vara tamaño 4\n",
            "   vara de tamaño  2 = 1 \n",
            "   rodCut de 2  = 2 \n",
            "   costo = 3\n",
            "\n",
            "\n",
            "RodCut de vara tamaño 1\n",
            "   vara de tamaño  1 = 1 \n",
            "   rodCut de 0  = 0 \n",
            "   costo = 1\n",
            "-------Valor maximo = 1 \n",
            "\n",
            "VALOR DE RETORNO de rodcut de 1  es de 1 \n",
            "------------------------------------\n",
            "\n",
            "RodCut de vara tamaño 4\n",
            "   vara de tamaño  3 = 1 \n",
            "   rodCut de 1  = 1 \n",
            "   costo = 2\n",
            "\n",
            "\n",
            "RodCut de vara tamaño 4\n",
            "   vara de tamaño  4 = 1 \n",
            "   rodCut de 0  = 0 \n",
            "   costo = 1\n",
            "\n",
            "\n",
            "VALOR DE RETORNO de rodcut de 4  es de 4 \n",
            "------------------------------------\n",
            "\n",
            "valor maximo = 4 \n",
            "Cantidad de llamada a CutRod 27\n"
          ]
        }
      ]
    },
    {
      "cell_type": "markdown",
      "source": [
        "Como Vemos el algoritmo repite varias veces el mismo trabajo lo cual lo vuelve muy ineficiente ya que logra tener una complejidad temporal de $O(2^n)$"
      ],
      "metadata": {
        "id": "tRPiuKs8b-VU"
      }
    },
    {
      "cell_type": "markdown",
      "source": [
        "#2.2 **Programacion Dinamica**\n"
      ],
      "metadata": {
        "id": "5S9NsecwfgdL"
      }
    },
    {
      "cell_type": "code",
      "source": [
        "def bottomUp(p,n,cont=0,verbose=False):\n",
        "  \n",
        "  r=[0 for i in range(0,n+1)]\n",
        "\n",
        "  if(verbose):\n",
        "    print(\"Creamos el arreglo r de tamaño\",n)\n",
        "    r=[0 for i in range(0,n+1)]\n",
        "  for i in range(1,n+1):\n",
        "    #dejamos el q en el menor numero posible en nuestro caso como la varillas tienen un precio deducimos que no puede ser negativo\n",
        "    q = -1 \n",
        "\n",
        "    if(verbose):\n",
        "      print(\"VARILLA :\",i,\"\\n\")\n",
        "\n",
        "    for j in range(0,i):\n",
        "      \n",
        "      if(verbose):\n",
        "            print(\"   >p[\"+str(j)+\"] + r[\"+str(i-j-1)+\"] =\",p[j]+r[i-j-1])\n",
        "      \n",
        "      #Calculamos el maximo\n",
        "      if(q<p[j]+r[i-j-1]):\n",
        "\n",
        "         #contamos la cantidad de comparaciones\n",
        "         \n",
        "            \n",
        "          cont+=1\n",
        "          q=p[j]+r[i-j-1]\n",
        "          if(verbose):\n",
        "            print(\"   >cambio de maximo : p[\"+str(j)+\"] =\",p[j],\"+ r[\"+str(i-j-1)+\"] =\",r[i-j-1],\"es igual a\",q)\n",
        "\n",
        "    if(verbose):\n",
        "      print(\"\\nValor del rod de la varilla\",i,\" es\",q,\"\\n\")\n",
        "\n",
        "    r[i]=q\n",
        "\n",
        "  \n",
        "  return r[n],cont\n",
        "\n",
        "c=[1,1,1,1,1]\n",
        "\n",
        "print(bottomUp(c,4,0,False))"
      ],
      "metadata": {
        "id": "X1vrQcSrvGne",
        "colab": {
          "base_uri": "https://localhost:8080/"
        },
        "outputId": "1043b21a-a164-4f38-dace-cc1ee96bc399"
      },
      "execution_count": 288,
      "outputs": [
        {
          "output_type": "stream",
          "name": "stdout",
          "text": [
            "(4, 4)\n"
          ]
        }
      ]
    },
    {
      "cell_type": "markdown",
      "source": [
        "##2.2.1 **bottom-up**\n",
        "---\n",
        "\n",
        "El algoritmo hace lo siguiente:\n",
        "\n",
        ">se ingresan dos parametros:\n",
        ">* `price`: es el arrelgo con el precio de cada vara de tamaño $i$\n",
        ">* `n`: es el la longitud de la barrilla \n",
        ">\n",
        ">Genera un arreglo de tamaño n llamado `r`\n",
        ">\n",
        ">Itera i de **1 hasta n+1** Y deja a q con un valor negativo\n",
        ">\n",
        ">luego itera j de **o hasta i** y compara que `q<p[j]+r[i-j-1]`\n",
        ">\n",
        ">si lo ultimo ocurre se guarda el valor de `p[j]+r[i-j-1]` como el maximo\n",
        ">\n",
        ">al terminar la iteracion de j se le da el valor de `r[j]` el maximo que calulamos antes\n",
        ">\n",
        ">al terminar el algotimo se retorna `r[n]` que contiene el maximo el cual se estaba buscando\n",
        "\n",
        "Al recorrer solo dos veces el algoritmo le permite guardar los resultados de los problemas obtenidos en un arrglo (`r`) y asi conseguir el resultado en mucho menos tiempo que el metodo recusivo."
      ],
      "metadata": {
        "id": "UE3Cu1R6zDPw"
      }
    },
    {
      "cell_type": "code",
      "source": [
        "c=[1,2,1,3,63,63,81]\n",
        "\n",
        "a,null=bottomUp(c,7,0,True)\n",
        "\n",
        "print(\"El valor maximo de la varilla 7 es\",a)"
      ],
      "metadata": {
        "colab": {
          "base_uri": "https://localhost:8080/"
        },
        "id": "44YYCPg93-ec",
        "outputId": "00ae46b6-b044-4f09-f30a-fb87b73aa1b5"
      },
      "execution_count": 289,
      "outputs": [
        {
          "output_type": "stream",
          "name": "stdout",
          "text": [
            "Creamos el arreglo r de tamaño 7\n",
            "VARILLA : 1 \n",
            "\n",
            "   >p[0] + r[0] = 1\n",
            "   >cambio de maximo : p[0] = 1 + r[0] = 0 es igual a 1\n",
            "\n",
            "Valor del rod de la varilla 1  es 1 \n",
            "\n",
            "VARILLA : 2 \n",
            "\n",
            "   >p[0] + r[1] = 2\n",
            "   >cambio de maximo : p[0] = 1 + r[1] = 1 es igual a 2\n",
            "   >p[1] + r[0] = 2\n",
            "\n",
            "Valor del rod de la varilla 2  es 2 \n",
            "\n",
            "VARILLA : 3 \n",
            "\n",
            "   >p[0] + r[2] = 3\n",
            "   >cambio de maximo : p[0] = 1 + r[2] = 2 es igual a 3\n",
            "   >p[1] + r[1] = 3\n",
            "   >p[2] + r[0] = 1\n",
            "\n",
            "Valor del rod de la varilla 3  es 3 \n",
            "\n",
            "VARILLA : 4 \n",
            "\n",
            "   >p[0] + r[3] = 4\n",
            "   >cambio de maximo : p[0] = 1 + r[3] = 3 es igual a 4\n",
            "   >p[1] + r[2] = 4\n",
            "   >p[2] + r[1] = 2\n",
            "   >p[3] + r[0] = 3\n",
            "\n",
            "Valor del rod de la varilla 4  es 4 \n",
            "\n",
            "VARILLA : 5 \n",
            "\n",
            "   >p[0] + r[4] = 5\n",
            "   >cambio de maximo : p[0] = 1 + r[4] = 4 es igual a 5\n",
            "   >p[1] + r[3] = 5\n",
            "   >p[2] + r[2] = 3\n",
            "   >p[3] + r[1] = 4\n",
            "   >p[4] + r[0] = 63\n",
            "   >cambio de maximo : p[4] = 63 + r[0] = 0 es igual a 63\n",
            "\n",
            "Valor del rod de la varilla 5  es 63 \n",
            "\n",
            "VARILLA : 6 \n",
            "\n",
            "   >p[0] + r[5] = 64\n",
            "   >cambio de maximo : p[0] = 1 + r[5] = 63 es igual a 64\n",
            "   >p[1] + r[4] = 6\n",
            "   >p[2] + r[3] = 4\n",
            "   >p[3] + r[2] = 5\n",
            "   >p[4] + r[1] = 64\n",
            "   >p[5] + r[0] = 63\n",
            "\n",
            "Valor del rod de la varilla 6  es 64 \n",
            "\n",
            "VARILLA : 7 \n",
            "\n",
            "   >p[0] + r[6] = 65\n",
            "   >cambio de maximo : p[0] = 1 + r[6] = 64 es igual a 65\n",
            "   >p[1] + r[5] = 65\n",
            "   >p[2] + r[4] = 5\n",
            "   >p[3] + r[3] = 6\n",
            "   >p[4] + r[2] = 65\n",
            "   >p[5] + r[1] = 64\n",
            "   >p[6] + r[0] = 81\n",
            "   >cambio de maximo : p[6] = 81 + r[0] = 0 es igual a 81\n",
            "\n",
            "Valor del rod de la varilla 7  es 81 \n",
            "\n",
            "El valor maximo de la varilla 7 es 81\n"
          ]
        }
      ]
    },
    {
      "cell_type": "markdown",
      "source": [
        "#3. **Correctitud**\n",
        "---\n",
        "##3.1 **Bottom-Up** \n",
        "\n",
        "**Teorema**:\n",
        "\n",
        ">_\"Bottom-Up se le entrega un arreglo de precios y el largo de la varilla y entrega el valor maximo que se puede vender la varilla del largo ingresado\"_\n",
        "\n",
        "Para probar esto podemos usar inducion matematica:\n",
        "\n",
        "Definimos lo siguiente.\n",
        "\n",
        "* **Caso base $p(1)$**: cuando la varilla tiene tamaño 1, esta no se puede divir en mas partes por lo cual se retorna el valor establecido por el arreglo de precios, esto es trivialmente correcto.\n",
        "\n",
        "* **Caso General $p(n)$**: si queremos calcular el caso p tenemos que calcular los problemas que son menores a este $p(m)$ siedo $m < n$. Calculara todos los casos hasta llegar al caso base que es p(1).\n",
        "\n",
        "cuando entregamos una varilla de largo n el algoritmo iterara y caluclara los problemas de tamaño `r[j]+r[j-i+1]` y lo compara con `q` para sacar el maximo valor, esto hata que llegen al caso base, luego el algoritmo entrega el valor maximo."
      ],
      "metadata": {
        "id": "zBjSZPDq0e5t"
      }
    },
    {
      "cell_type": "markdown",
      "source": [
        "#**4. Complejidad**\n",
        "---"
      ],
      "metadata": {
        "id": "oOqphBDr0nGy"
      }
    },
    {
      "cell_type": "markdown",
      "source": [
        "##4.1 **Complejidad Temporal**\n",
        "\n",
        "Bottom-up recorre el arreglo dentro de 2 iteraciones\n",
        "\n",
        "* $i$ que recorre de 1 hasta n+1\n",
        "* $j$ que recorre de 1 hasta $i$\n",
        "\n",
        "Para calcular su complejidad se puede representar de la siguiente manera:\n",
        "\n",
        "> $$\\sum_{i=1}^{n+1}\\sum_{j=0}^{i}{j}$$\n",
        "\n",
        "**Separamos las sumatorias:**\n",
        "\n",
        ">$$\\sum_{i=1}^{n+1}i=O(n)$$\n",
        ">$$\\sum_{j=0}^{i}{j}=[1,2,3,...,i]=O(n)$$\n",
        "\n",
        "**Juntamos sus resultados:**\n",
        ">$$O(n)*O(n)=O(n^2)$$\n",
        "\n",
        "\n",
        "De esta manera podemos concluir que la complejidad temporar es de $O(n^2)$"
      ],
      "metadata": {
        "id": "9NxZ7Tmj9IsP"
      }
    },
    {
      "cell_type": "markdown",
      "source": [
        "##4.2 **Complejidad espacial**\n",
        "\n",
        "Primero calulamos la complejidad de cada operacion\n",
        "\n",
        "* El algoritmo genera un arreglo de tamaño $n$ el cual es `r[]` por lo cual esto genera un a compljidad espacial de $O(n)$ \n",
        "\n",
        "* Las demas operaciones directamente solo cambian valores ya predefinidos por lo cual su complejidad es de $O(1)$ ya que no generan nuevos valores\n",
        "\n",
        "\n",
        "Si juntamos ambas cotas no da que la complejidad es \n",
        "\n",
        "$$O(n)*O(1)=O(n)$$\n",
        "\n",
        "Por conclusion la complejidad del algoritmo es de $O(n)$"
      ],
      "metadata": {
        "id": "lUAKybDMAcN2"
      }
    },
    {
      "cell_type": "markdown",
      "source": [
        "#**5. Experimentacion**\n",
        "---"
      ],
      "metadata": {
        "id": "ydQ8gOYT0sKc"
      }
    },
    {
      "cell_type": "code",
      "source": [
        "import datetime\n",
        "import random\n",
        "import matplotlib.pyplot as plt\n",
        "from timeit import repeat\n",
        "\n",
        "\n",
        "ix=[]; iy=[]\n",
        "\n",
        "for n in range(5,17):\n",
        "\n",
        "  a = random.sample(range(1, 30), n)\n",
        "  i = random.randint(1,n)\n",
        "\n",
        "  \n",
        "  t = repeat(setup=\"from __main__ import rodCut\", stmt=f\"rodCut({a},{i})\", repeat=1, number=10)\n",
        "\n",
        "  ix.append(n)\n",
        "  iy.append(t)\n",
        "\n",
        "bx=[]; by=[]\n",
        "\n",
        "for n in range(5,17):\n",
        "\n",
        "  a = random.sample(range(1, 30), n)\n",
        "  i = random.randint(1,n)\n",
        "  t = repeat(setup=\"from __main__ import bottomUp\", stmt=f\"bottomUp({a},{i})\", repeat=1, number=10)\n",
        "\n",
        "  bx.append(n)\n",
        "  by.append(t)\n",
        "\n",
        "\n",
        "plt.plot(ix,iy)\n",
        "plt.plot(bx,by)\n",
        "plt.legend([\"RodCut\", \"Bottom-up\"])\n",
        "\n",
        "plt.xlabel('n')\n",
        "plt.ylabel('time in ms')\n",
        "plt.show()"
      ],
      "metadata": {
        "colab": {
          "base_uri": "https://localhost:8080/",
          "height": 279
        },
        "id": "Jme-eHjgk4zc",
        "outputId": "11784923-e5b1-4a71-efed-839a0678382a"
      },
      "execution_count": 222,
      "outputs": [
        {
          "output_type": "display_data",
          "data": {
            "text/plain": [
              "<Figure size 432x288 with 1 Axes>"
            ],
            "image/png": "[encoded data removed]"
          },
          "metadata": {
            "needs_background": "light"
          }
        }
      ]
    },
    {
      "cell_type": "markdown",
      "source": [
        "##5.1 **Comparacion de tiempos**\n",
        "\n",
        "Observaciones:\n",
        "\n",
        "* rodCut se demora mucho mas tiempo que bottom-up.\n",
        "* rodCUt en algunos casos llega a demorar lo mismo que bottom-up n = ([0,9], 12, 14, 16).\n",
        "* bottom-up parce no tener varaciones de tiempo, porque tiende a 0.0.\n",
        "\n",
        "concluciones:\n",
        "\n",
        "bottom-up parece ser una opcion mas optima que rodCut ya que no varia en su tiempo de ejecucion y llega ser mucho mas rapido como se ve en la muestra tardando solo milisegundos debido a la complejidad $o(n^2)$ superior a la de Rodcut que es $o(2^n)$\n",
        "\n",
        "nota: tube que reducir los casos de comparaciones porque RodCut se demora demaciado "
      ],
      "metadata": {
        "id": "kGzJoypwujTe"
      }
    },
    {
      "cell_type": "code",
      "source": [
        "import matplotlib.pyplot as plt\n",
        "\n",
        "x=[n for n in range(1,96)]\n",
        "y=[]; \n",
        "y1=[n for n in range(1,96)]\n",
        "y2=[n*0.1 for n in range(1,96)]\n",
        "for n in range(5,100):\n",
        "  a = [m for m in range(1,n+1)] \n",
        "  i = random.randint(1,n)\n",
        "  a,counter = bottomUp(a,i)\n",
        "  y.append(counter)\n",
        "\n",
        "plt.plot(x,y)\n",
        "plt.plot(x,y1)\n",
        "plt.plot(x,y2)\n",
        "plt.legend([\"Bottom-Up\"])\n",
        "\n",
        "\n",
        "\n",
        "plt.xlabel('n')\n",
        "plt.ylabel('numeros de operaciones')\n",
        "plt.show()"
      ],
      "metadata": {
        "colab": {
          "base_uri": "https://localhost:8080/",
          "height": 279
        },
        "id": "6TMs4Q8Vw2M-",
        "outputId": "3ad8e853-ac49-40f1-b290-85d98b3c7a75"
      },
      "execution_count": 249,
      "outputs": [
        {
          "output_type": "display_data",
          "data": {
            "text/plain": [
              "<Figure size 432x288 with 1 Axes>"
            ],
            "image/png": "[encoded data removed]"
          },
          "metadata": {
            "needs_background": "light"
          }
        }
      ]
    },
    {
      "cell_type": "markdown",
      "source": [
        "Observaciones:\n",
        "\n",
        "* Parece la cantidad de comparaciones de botom-up tienden a dos lineas las cuales coloque para tratar de sacar concluciones\n",
        "* mientras mas elementos tenga mas puede llegar a demorar (debido a la complejidad temporal de $O(n^2)$ ) \n",
        "* una de las razones que varie tanto su tamaño es debido a que paramatro se le asigna `n` ya que en este esperimento utilize numeros aleatorios para elejir estos\n",
        "\n",
        "conclusiones:\n",
        "\n",
        "los numeros de comparaciones tienende estar entre dos rectas la naraja que es $n$ y la verde que es $n/10$, se puede casi asegurar que el numeros de comparaciones no pasa la liena naraja y en los caso que llega hacerlo no llega a ser mucha la diferencia, lo mismo pasa con la linea verde, aunque esto es mera especulacion, se necesitaria mas informacion para probar esto"
      ],
      "metadata": {
        "id": "tnS9REzSzpva"
      }
    }
  ]
}