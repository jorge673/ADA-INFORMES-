{
  "nbformat": 4,
  "nbformat_minor": 0,
  "metadata": {
    "colab": {
      "name": "Untitled1.ipynb",
      "provenance": [],
      "authorship_tag": "ABX9TyP7/Wyq8A6OahBlpU+2I0xn",
      "include_colab_link": true
    },
    "kernelspec": {
      "name": "python3",
      "display_name": "Python 3"
    },
    "language_info": {
      "name": "python"
    }
  },
  "cells": [
    {
      "cell_type": "markdown",
      "metadata": {
        "id": "view-in-github",
        "colab_type": "text"
      },
      "source": [
        "<a href=\"https://colab.research.google.com/github/jorge673/ADA-INFORMES-/blob/main/Informe-InsertionSort.ipynb\" target=\"_parent\"><img src=\"https://colab.research.google.com/assets/colab-badge.svg\" alt=\"Open In Colab\"/></a>"
      ]
    },
    {
      "cell_type": "markdown",
      "source": [
        "# 1. Descripcion del problema\n",
        "**Entrada**: Una lista de n-números: $a = [a_1, a_2, a_3,…, a_n]$\n",
        "\n",
        "**Salida**: Una lista ordenada con los elementos ordenados $a' = [a_1', a_2', a_3',…, a_n']$ de manera que *$a_1'\\leq a_2' \\leq a_3'\\leq... \\leq a_n'$*\n",
        "\n",
        "![image](https://imgur.com/v99pCtP.png)\n",
        "\n",
        "Es uno de los problemas más antiguos de la programación y uno de los más comunes a la vez debido a que tiene un grado de complejidad a pesar de lo muy simple y sencillo que parezca, es por eso que hasta el día de hoy se investiga sobre este problema para hacerlo cada vez más sencillo y eficiente.\n",
        "\n"
      ],
      "metadata": {
        "id": "v7KEbiJpUcET"
      }
    },
    {
      "cell_type": "markdown",
      "source": [
        "# 2. InsertionSort\n",
        "## 2.1 Codigo\n",
        "**El siguiente código muestra el *Insertion-sort* echo con Phyton:**\n",
        "\n"
      ],
      "metadata": {
        "id": "F-snfTKTU0Wa"
      }
    },
    {
      "cell_type": "code",
      "source": [
        "import random\n",
        "from termcolor import colored\n",
        "import copy\n",
        "\n",
        "def InsertionSort(lista, verbose=False):\n",
        "\n",
        "  n = len(lista) # largo del arreglo\n",
        "  c = 0 # contador de retrosesos\n",
        "  m = 0 # media de retrosesos \n",
        "  temp = c # sirve para saber si se hiso una modificacion en los retroses (no es nesesario)\n",
        "  for i in range(1,n):\n",
        "\n",
        "    aux = lista[i] # guarda el i-esimo elemento de la funcion \n",
        "    j = i-1 # j sera antesesor de i\n",
        "\n",
        "    temp = c \n",
        "    \n",
        "    if(verbose):\n",
        "        print(\"Pasada \",i,\":\")\n",
        "        print(end=\"   \")\n",
        "        print(str(lista[:i])[1:-1],end=\", \")\n",
        "        print(colored(f\"{str(lista[i])}\",\"blue\")+\", \"+str(lista[i+1:])[1:-1])\n",
        "\n",
        "    while j >= 0 and lista[j] > aux :\n",
        "      #si el j-esimo elemento es mayor que aux (osea el sucesor de j) se realisa un cambio\n",
        "      lista[j+1] = lista[j] # se intercambian los valores (el susesor de j obtiene el valor de este)\n",
        "      j = j-1 #se decrementa j\n",
        "      c+=1 #se cuenta cuantas veces se movio un elemento\n",
        "    lista[j+1] = aux #se intercambian los valores (al j+1 o mas dicho susesor )\n",
        "\n",
        "    if(verbose):\n",
        "        if(temp!=c):\n",
        "          print(end=\"   \")\n",
        "          if(j+1>0):\n",
        "            print(str(lista[:j+1])[1:-1],end=\", \")\n",
        "      \n",
        "          print(colored(f\"{str(lista[j+1])}\",\"green\")+\", \"+colored(f\"{str(lista[j+2:i+1])[1:-1]}\",\"red\")+\", \"+str(lista[i+1:])[1:-1])\n",
        "\n",
        "          print(\"   Nº de intercambios :\",i-(j+1))\n",
        "        else:\n",
        "          print(\"   No hay intercambios\")\n",
        "        print(\"\")\n",
        "\n",
        "  if(verbose):\n",
        "    print(\"El arreglo a sido ordenado\")\n",
        "  return lista , c , m\n",
        "\n",
        "mylist = [5,2,3,4,6,1]\n",
        "\n",
        "print(\"Lista de entrada :\", mylist)\n",
        "\n",
        "mylist , cont , media= InsertionSort(mylist)\n",
        "\n",
        "print(\"Lista de salida :\", mylist,\"\\n\")\n",
        "\n",
        "print(\"Cuantas veces se intercambio un valor : \" , cont)\n",
        "\n"
      ],
      "metadata": {
        "colab": {
          "base_uri": "https://localhost:8080/"
        },
        "id": "_tO_L_Psavk5",
        "outputId": "8498762f-0ce7-440d-a766-189738bb29fe"
      },
      "execution_count": 64,
      "outputs": [
        {
          "output_type": "stream",
          "name": "stdout",
          "text": [
            "Lista de entrada : [5, 2, 3, 4, 6, 1]\n",
            "Lista de salida : [1, 2, 3, 4, 5, 6] \n",
            "\n",
            "Cuantas veces se intercambio un valor :  8\n"
          ]
        }
      ]
    },
    {
      "cell_type": "code",
      "source": [
        "import random\n",
        "from termcolor import colored\n",
        "import copy\n",
        "\n",
        "def InsertionSort(lista, verbose=False):\n",
        "\n",
        "  n = len(lista) # largo del arreglo\n",
        "  c = 0 # contador de retrosesos \n",
        "  temp = c # sirve para saber si se hiso una modificacion en los retroses \n",
        "  for i in range(1,n):\n",
        "\n",
        "    aux = lista[i] # guarda el i-esimo elemento de la funcion \n",
        "    j = i-1 # j sera antesesor de i\n",
        "\n",
        "    temp = c \n",
        "    \n",
        "    if(verbose):\n",
        "        print(\"Pasada \",i,\":\")\n",
        "        print(end=\"   \")\n",
        "        print(str(lista[:i])[1:-1],end=\", \")\n",
        "        print(colored(f\"{str(lista[i])}\",\"blue\")+\", \"+str(lista[i+1:])[1:-1])\n",
        "\n",
        "    while j >= 0 and lista[j] > aux :\n",
        "      #si el j-esimo elemento es mayor que aux (osea el sucesor de j) se realisa un cambio\n",
        "      lista[j+1] = lista[j] # se intercambian los valores (el susesor de j obtiene el valor de este)\n",
        "      j = j-1 #se decrementa j\n",
        "      c+=1 #se cuenta cuantas veces se movio un elemento\n",
        "    lista[j+1] = aux #se intercambian los valores (al j+1 o mas dicho susesor )\n",
        "\n",
        "    if(verbose):\n",
        "        if(temp!=c):\n",
        "          print(end=\"   \")\n",
        "          if(j+1>0):\n",
        "            print(str(lista[:j+1])[1:-1],end=\", \")\n",
        "\n",
        "          print(colored(f\"{str(lista[j+1])}\",\"green\")+\", \"+colored(f\"{str(lista[j+2:i+1])[1:-1]}\",\"red\")+\", \"+str(lista[i+1:])[1:-1])\n",
        "\n",
        "          print(\"   Nº de intercambios :\",i-(j+1))\n",
        "        else:\n",
        "          print(\"   No hay intercambios\")\n",
        "        print(\"\")\n",
        "  m = float(c/(n-1)) # media de retrosesos\n",
        "  m = round(m,3)\n",
        "  if(verbose):\n",
        "    print(\"El arreglo a sido ordenado\")\n",
        "  return lista , c , m\n",
        "\n",
        "mylist = [5,2,3,4,6,1]\n",
        "\n",
        "print(\"Lista de entrada :\", mylist)\n",
        "\n",
        "mylist , cont , media= InsertionSort(mylist)\n",
        "\n",
        "print(\"Lista de salida :\", mylist,\"\\n\")\n",
        "\n",
        "print(\"Cuantas veces se intercambio un valor : \" , cont)\n",
        "\n",
        "print(\"Media de intercambios : \" , media)\n",
        "\n"
      ],
      "metadata": {
        "colab": {
          "base_uri": "https://localhost:8080/"
        },
        "outputId": "656b84db-7e7e-4480-8a43-dfc71a558926",
        "id": "Au6Fqxgm9zSy"
      },
      "execution_count": 93,
      "outputs": [
        {
          "output_type": "stream",
          "name": "stdout",
          "text": [
            "Lista de entrada : [5, 2, 3, 4, 6, 1]\n",
            "Lista de salida : [1, 2, 3, 4, 5, 6] \n",
            "\n",
            "Cuantas veces se intercambio un valor :  8\n",
            "Media de intercambios :  1.6\n"
          ]
        }
      ]
    },
    {
      "cell_type": "markdown",
      "source": [
        "## 2.2 Descripcion del algoritomo\n",
        "El algoritmo recibe una lista o un arreglo \"$a$\" con la cantidad de $n$-números de los cuales el algoritmo tiene que ordenar de menor a mayor usando dentro del mismo arreglo o lista \n",
        "\n",
        "1.   el algoritmo empieza con un ciclo `for` con i desde 1 hasta el largo del arreglo, se declara a `j=i-1` (esta es la rason porque `i` no empieza en 0) y por último se asigna `aux=lista[i]` para que guarde. Por último se inicia un ciclo `while` con las condicionales de `j=0 ` y `lista[j]aux`\n",
        "\n",
        "2. dentro de este ciclo `while` se intercambia el valor de `lista[j]` con la de `lista[j+1]`\n",
        "\n",
        "3.  El ciclo `while` termina cuando `lista[j]<=aux` o `j<0`. Si esto no ocurre continuara hasta que lo anterior se cumpla.\n",
        "\n",
        "4. Al final del algoritmo se retorna la lista ordenada y `c` que es la cantidad de veces que el ciclo cambio un elemento\n",
        "\n",
        "El algoritmo es muy fácil de implementar y se parece más a la manera natural que tiene el ser humano para ordenar número, pero también es una de las más ineficientes\n",
        "\n",
        "\n"
      ],
      "metadata": {
        "id": "R1xUjFmyqhma"
      }
    },
    {
      "cell_type": "markdown",
      "source": [
        "## 2.3 Ejemplo \n",
        "Para el ejemplo usaremos el siguiente arreglo:\n",
        "\n",
        ">$a=[3,2,4,1]$\n",
        "\n",
        "El la primera pasada el cambio que se produce es el del 3 con 2\n",
        "\n",
        ">$a=[2,3,4,1]$\n",
        "\n",
        "En la siguiente se compara el 3 con el 4, como 3 < 4 no se intercambia ningun número\n",
        "\n",
        ">$a=[2,3,4,1]$\n",
        "\n",
        "En la tercera pasada el 1 se intercambia con el 4\n",
        "\n",
        ">$a=[2,3,1,4]$\n",
        "\n",
        "En la cuarta se intercambia el 1 con el 3\n",
        "\n",
        ">$a=[2,1,3,4]$ \n",
        "\n",
        "Y por último se cambia el 2 por el 1\n",
        "\n",
        ">$a=[1,2,3,4]$"
      ],
      "metadata": {
        "id": "6NvcUTganNsl"
      }
    },
    {
      "cell_type": "markdown",
      "source": [
        "##2.4 Algoritmo paso a paso\n",
        "Usando la opción `verbose=True`, podemos ver lo que ocurre en cada iteración del algoritmo"
      ],
      "metadata": {
        "id": "kKPQiy7Fsi8X"
      }
    },
    {
      "cell_type": "code",
      "source": [
        "import random\n",
        "\n",
        "a = random.sample(range(1, 100), 6)\n",
        "\n",
        "InsertionSort(a,True)\n",
        "\n",
        "print(\"Cuantas veces se intercambio un valor : \" , cont)\n",
        "\n",
        "print(\"Media de intercambios : \" , media)\n"
      ],
      "metadata": {
        "colab": {
          "base_uri": "https://localhost:8080/"
        },
        "id": "zzEQEgkPs4nO",
        "outputId": "5f555890-77e6-4787-a53d-a510a0c9198f"
      },
      "execution_count": 76,
      "outputs": [
        {
          "output_type": "stream",
          "name": "stdout",
          "text": [
            "Pasada  1 :\n",
            "   81, \u001b[34m4\u001b[0m, 89, 8, 58, 70\n",
            "   \u001b[32m4\u001b[0m, \u001b[31m81\u001b[0m, 89, 8, 58, 70\n",
            "   Nº de intercambios : 1\n",
            "\n",
            "Pasada  2 :\n",
            "   4, 81, \u001b[34m89\u001b[0m, 8, 58, 70\n",
            "   No hay intercambios\n",
            "\n",
            "Pasada  3 :\n",
            "   4, 81, 89, \u001b[34m8\u001b[0m, 58, 70\n",
            "   4, \u001b[32m8\u001b[0m, \u001b[31m81, 89\u001b[0m, 58, 70\n",
            "   Nº de intercambios : 2\n",
            "\n",
            "Pasada  4 :\n",
            "   4, 8, 81, 89, \u001b[34m58\u001b[0m, 70\n",
            "   4, 8, \u001b[32m58\u001b[0m, \u001b[31m81, 89\u001b[0m, 70\n",
            "   Nº de intercambios : 2\n",
            "\n",
            "Pasada  5 :\n",
            "   4, 8, 58, 81, 89, \u001b[34m70\u001b[0m, \n",
            "   4, 8, 58, \u001b[32m70\u001b[0m, \u001b[31m81, 89\u001b[0m, \n",
            "   Nº de intercambios : 2\n",
            "\n",
            "El arreglo a sido ordenado\n",
            "Cuantas veces se intercambio un valor :  8\n",
            "Media de intercambios :  1.6\n"
          ]
        }
      ]
    },
    {
      "cell_type": "markdown",
      "source": [
        "Los números azules representa el $i$-eximo elemento que se está comparando \n",
        "en cada intercambio es representado con rojo y la posición final de cada elemento está coloreada con verde "
      ],
      "metadata": {
        "id": "uxaZ5rh2t1Lu"
      }
    },
    {
      "cell_type": "markdown",
      "source": [
        "#3. Correctitud\n",
        "\n",
        "Propiedad del algoritmo:\n",
        "\n",
        ">***Al inicio de cada iteración del algoritmo, el subarreglo $a'[i . . . n − 1]$\n",
        "contiene los elementos de $a[i . . . n − 1]$ pero reorganizados desde el menor al mayor ***\n",
        "\n",
        "Esta propiedad se llama **invariante de lazo**\n",
        "\n",
        "Si es verdadera, al terminar la propiedad el sub-arreglo $a`[i . . . n-1]$ está ordenado y por lo tanto el algoritmo es correcto\n",
        "\n",
        "Para establecer la certeza de un invariante de lazo, debemos mostrar\n",
        "tres cosas:\n",
        "\n",
        ">**Inicializacion**: la propiedad es cierto justo antes de la primera\n",
        "iteracion\n",
        "\n",
        ">**Mantenimiento**: Si la propiedad es cierta antes del inicio, el invariante de lazo sigue siendo cierto despues de\n",
        "finalizar cada iteracion, ya que nunca $a'$ cambia de tamaño y se mantiene con \n",
        "la misma cantidad de elementos que $a$\n",
        "\n",
        ">**Terminacion**: al terminar, el algoritmo dara $a'$ con la misma cantidad de elementos que $a$ pero de manera ordenada\n",
        "\n",
        "\n"
      ],
      "metadata": {
        "id": "E00M88LwKT94"
      }
    },
    {
      "cell_type": "markdown",
      "source": [
        "#4.Tiempos de ejecucion \n",
        "\n",
        "###**Teorema (Tiempo de ejecución).**\n",
        ">***El algoritmo inserionsort tiene una complejidad temporal de \n",
        "$O(n^2)$ en su peor caso***\n",
        "\n",
        "el peor caso ocurre cuando los elementos estan ordenados de mayor a menor, lo que provocaria que el $i$-esimo elemento debe ser intercambiado hasta la primera posision del arreglo"
      ],
      "metadata": {
        "id": "3jjhd8HswPkn"
      }
    },
    {
      "cell_type": "markdown",
      "source": [
        "##4.1 Ejemplo\n"
      ],
      "metadata": {
        "id": "OtsAFVs5zIDS"
      }
    },
    {
      "cell_type": "code",
      "source": [
        "lista=[5,4,3,2,1]\n",
        "\n",
        "print(\"entrada :\", lista)\n",
        "lista , contador , media= InsertionSort(lista,True)\n",
        "print(\"salida :\",lista)\n",
        "print(\"cantidad de intercambios :\", contador)\n",
        "\n",
        "print(\"Media de intercambios : \" , media)"
      ],
      "metadata": {
        "id": "5pMiH7uFzjfu",
        "outputId": "005165b0-73b8-4d5f-8601-e7dcb490d6c2",
        "colab": {
          "base_uri": "https://localhost:8080/"
        }
      },
      "execution_count": 94,
      "outputs": [
        {
          "output_type": "stream",
          "name": "stdout",
          "text": [
            "entrada : [5, 4, 3, 2, 1]\n",
            "Pasada  1 :\n",
            "   5, \u001b[34m4\u001b[0m, 3, 2, 1\n",
            "   \u001b[32m4\u001b[0m, \u001b[31m5\u001b[0m, 3, 2, 1\n",
            "   Nº de intercambios : 1\n",
            "\n",
            "Pasada  2 :\n",
            "   4, 5, \u001b[34m3\u001b[0m, 2, 1\n",
            "   \u001b[32m3\u001b[0m, \u001b[31m4, 5\u001b[0m, 2, 1\n",
            "   Nº de intercambios : 2\n",
            "\n",
            "Pasada  3 :\n",
            "   3, 4, 5, \u001b[34m2\u001b[0m, 1\n",
            "   \u001b[32m2\u001b[0m, \u001b[31m3, 4, 5\u001b[0m, 1\n",
            "   Nº de intercambios : 3\n",
            "\n",
            "Pasada  4 :\n",
            "   2, 3, 4, 5, \u001b[34m1\u001b[0m, \n",
            "   \u001b[32m1\u001b[0m, \u001b[31m2, 3, 4, 5\u001b[0m, \n",
            "   Nº de intercambios : 4\n",
            "\n",
            "El arreglo a sido ordenado\n",
            "salida : [1, 2, 3, 4, 5]\n",
            "cantidad de intercambios : 10\n",
            "Media de intercambios :  2.5\n"
          ]
        }
      ]
    },
    {
      "cell_type": "markdown",
      "source": [
        "por cada `i` iteracion que hace se suma `i` intercambios. como puede apreciar en la primera iteracion se hiso solo 1 iteracion en cambio en la cuarta se suman 4 dando un total de 10 intercambios, esto se representa mejor con la sigiente formula:\n",
        "\n",
        ">$\\sum\\limits_{i=0}^{n-1} i=\\frac{n(n-1)}{2}$\n",
        "\n",
        "si se calcula la complejidad temporar dara \n",
        ">$O(n^2)$\n",
        "\n",
        "a si mismo se demuestra que el algoritmo tiene la propiedad:\n",
        ">***si $a$ tiene $n$ elementos en el peor caso tendra que recorrer $\\sum\\limits_{i=0}^{n-1} i$***\n",
        "\n",
        "\n"
      ],
      "metadata": {
        "id": "7k8acYPG_Y5V"
      }
    },
    {
      "cell_type": "markdown",
      "source": [
        "#5. Experimentos\n"
      ],
      "metadata": {
        "id": "DyEOdL-ETdqU"
      }
    },
    {
      "cell_type": "markdown",
      "source": [
        "##**Numeros de comparaciones**\n",
        "A continuación se una gráfica de la comparación entre:\n",
        "\n",
        "*   la cantidad de comparaciones del peor caso (los elementos ordenados de menor a mayor)\n",
        "*   la cantidad de comparaciones del mejor caso (los elementos ordenados de menor a mayor) \n",
        "*   la cantidad de comparaciones de un caso con elementos aleatorios\n",
        "\n",
        "\n",
        "Los arreglos de entrada son generados con numeros aleatorios entre 1 y 100."
      ],
      "metadata": {
        "id": "dlbrT61a50s-"
      }
    },
    {
      "cell_type": "code",
      "source": [
        "import matplotlib.pyplot as plt\n",
        "\n",
        "x=[n for n in range(1,16)] \n",
        "best=[n-1 for n in range(1,16)] # mejor caso\n",
        "worst=[n**2 for n in range(1,16)] # peor caso\n",
        "y=[]; \n",
        "\n",
        "for n in range(5,20):\n",
        "  a = random.sample(range(1, 100),n)\n",
        "  a,counter,NULL = InsertionSort(a)\n",
        "  y.append(counter)\n",
        "\n",
        "plt.plot(x,y)\n",
        "plt.plot(x,worst)\n",
        "plt.plot(x,best)\n",
        "plt.legend([\"Insertion-sort\", \"Peor caso\", \"Mejor caso\"])\n",
        "\n",
        "\n",
        "\n",
        "plt.xlabel('n')\n",
        "plt.ylabel('numeros de operaciones')\n",
        "plt.show()"
      ],
      "metadata": {
        "id": "v9DaatnZTkiS",
        "outputId": "34d384fa-fe8f-4be1-a501-32635e68e384",
        "colab": {
          "base_uri": "https://localhost:8080/",
          "height": 279
        }
      },
      "execution_count": 132,
      "outputs": [
        {
          "output_type": "display_data",
          "data": {
            "text/plain": [
              "<Figure size 432x288 with 1 Axes>"
            ],
            "image/png": "[encoded data removed]"
          },
          "metadata": {
            "needs_background": "light"
          }
        }
      ]
    },
    {
      "cell_type": "markdown",
      "source": [
        "###**Análisis de resultados**\n",
        "\n",
        "Se puede ver que el caso aleatorio se encuentra entre las gráficas de el mejor caso y el peor caso por lo que se puede deducir que casi siempre va a ser un promedio entre estas dos\n",
        "\n",
        "también se puede apreciar que el mejor caso tiene una complejidad temporal de $O(n)$\n",
        "\n",
        "y el peor $O(n^2)$\n"
      ],
      "metadata": {
        "id": "GzRyse1FFE5E"
      }
    },
    {
      "cell_type": "markdown",
      "source": [
        "##**Arreglo Semi-Ordenado**\n",
        "Ahora se procederá a generar una lista ordenada pero con algunos de sus valores aumentados para producir una lista semi-ordenada y ver como actúa esta"
      ],
      "metadata": {
        "id": "niDbJSKNV3TX"
      }
    },
    {
      "cell_type": "code",
      "source": [
        "import matplotlib.pyplot as plt\n",
        "\n",
        "x=[n for n in range(1,100)] \n",
        "semi=[n for n in range(1,100)]\n",
        "\n",
        "for i in range(1,35):\n",
        "  r=random.randint(2,100)\n",
        "  semi[r]*=random.randint(2,4)\n",
        "\n",
        "plt.plot(x,semi)\n",
        "plt.legend([\"Insertion-sort\"])\n",
        "\n",
        "\n",
        "\n",
        "plt.xlabel('n')\n",
        "plt.ylabel('numeros de operaciones')\n",
        "plt.show()"
      ],
      "metadata": {
        "id": "g7vmPvB3eIYM",
        "outputId": "8a36816a-71c4-45e4-8a81-7b4e346fabc4",
        "colab": {
          "base_uri": "https://localhost:8080/",
          "height": 282
        }
      },
      "execution_count": 171,
      "outputs": [
        {
          "output_type": "display_data",
          "data": {
            "text/plain": [
              "<Figure size 432x288 with 1 Axes>"
            ],
            "image/png": "[encoded data removed]"
          },
          "metadata": {
            "needs_background": "light"
          }
        }
      ]
    },
    {
      "cell_type": "markdown",
      "source": [
        "###**Análisis de resultados**\n",
        "\n",
        "Como se puede apreciar la gráfica parece ir por una línea recta parecida al del mejor caso $(O(n))$, pero como hay números con valores aleatorios dispersos, la gráfica tiende a tener ondulaciones por varias partes de gráfica. Esto se produce por el número de operaciones que conlleva cada uno de estos números desordenados"
      ],
      "metadata": {
        "id": "egfF74DlWOOs"
      }
    },
    {
      "cell_type": "markdown",
      "source": [
        "##**Comparacion entre Insertion-sort y Bubble-sort**\n",
        "\n",
        "Por último se comparará el Insertion-sort y Bubble-sort para ver sus complejidades temporales y así sacar conclusiones"
      ],
      "metadata": {
        "id": "FsHE1S8DZDb4"
      }
    },
    {
      "cell_type": "code",
      "source": [
        "import datetime\n",
        "from timeit import repeat\n",
        "\n",
        "def bubble_sort(a, verbose=False):\n",
        "    n = len(a)\n",
        "    T = 0 #contador de comparaciones\n",
        "\n",
        "    for i in range(1,n+1):\n",
        "        # Flag que indica si el arreglo ya se encuentra ordenado\n",
        "        already_sorted = True\n",
        "\n",
        "        # Se recorre el arreglo\n",
        "        for j in range(n - i):\n",
        "            T +=1\n",
        "            if a[j] > a[j + 1]:\n",
        "                # Si el elemento es mayor al siguiente se intercambia\n",
        "                a[j], a[j + 1] = a[j + 1], a[j]\n",
        "\n",
        "                already_sorted = False\n",
        "\n",
        "        if already_sorted:\n",
        "            break\n",
        "\n",
        "    return a, T\n",
        "\n",
        "ix=[]; iy=[]\n",
        "\n",
        "\n",
        "for n in range(5,250):\n",
        "\n",
        "  a = random.sample(range(1, 1000), n)\n",
        "\n",
        "  #la función repeat está ejecutando 20 veces bubble_sort con el arreglo a y retorna el mejor tiepo obtenido.\n",
        "  t = repeat(setup=\"from __main__ import InsertionSort\", stmt=f\"InsertionSort({a})\", repeat=1, number=10)\n",
        "\n",
        "  ix.append(n)\n",
        "  iy.append(t)\n",
        "\n",
        "bx=[]; by=[]\n",
        "\n",
        "for n in range(5,250):\n",
        "\n",
        "  a = random.sample(range(1, 1000), n)\n",
        "  t = repeat(setup=\"from __main__ import bubble_sort\", stmt=f\"bubble_sort({a})\", repeat=1, number=10)\n",
        "\n",
        "  bx.append(n)\n",
        "  by.append(t)\n",
        "\n",
        "\n",
        "plt.plot(ix,iy)\n",
        "plt.plot(bx,by)\n",
        "plt.legend([\"insetion sort\", \"bubble sort\"])\n",
        "\n",
        "plt.xlabel('n')\n",
        "plt.ylabel('time in ms')\n",
        "plt.show()"
      ],
      "metadata": {
        "id": "RESEdwNIX5ky",
        "outputId": "f06724ac-aee6-48ef-e77b-730a652a3a76",
        "colab": {
          "base_uri": "https://localhost:8080/",
          "height": 279
        }
      },
      "execution_count": 81,
      "outputs": [
        {
          "output_type": "display_data",
          "data": {
            "text/plain": [
              "<Figure size 432x288 with 1 Axes>"
            ],
            "image/png": "[encoded data removed]"
          },
          "metadata": {
            "needs_background": "light"
          }
        }
      ]
    },
    {
      "cell_type": "markdown",
      "source": [
        "Como se puede apreciar bubble-sort mientras mas elementos tienes más se aleja de los tiempos de Insertion-sort por lo cual a este último lo vuelve más eficiente que Bubble-sort para arreglos más largos"
      ],
      "metadata": {
        "id": "rFHa9FoAcmvY"
      }
    }
  ]
}