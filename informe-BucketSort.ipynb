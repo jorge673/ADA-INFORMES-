{
  "nbformat": 4,
  "nbformat_minor": 0,
  "metadata": {
    "colab": {
      "provenance": [],
      "authorship_tag": "ABX9TyN6aLzsS34t/3emJyQokT9u",
      "include_colab_link": true
    },
    "kernelspec": {
      "name": "python3",
      "display_name": "Python 3"
    },
    "language_info": {
      "name": "python"
    }
  },
  "cells": [
    {
      "cell_type": "markdown",
      "metadata": {
        "id": "view-in-github",
        "colab_type": "text"
      },
      "source": [
        "<a href=\"https://colab.research.google.com/github/jorge673/ADA-INFORMES-/blob/main/informe-BucketSort.ipynb\" target=\"_parent\"><img src=\"https://colab.research.google.com/assets/colab-badge.svg\" alt=\"Open In Colab\"/></a>"
      ]
    },
    {
      "cell_type": "markdown",
      "source": [
        "# **1. Descripción del problema**\n",
        "---\n",
        "\n",
        "**Entrada**: Una lista de n-números: $a = [a_1, a_2,…,a_{n-1}, a_n]$\n",
        "\n",
        "**Salida**: Una lista ordenada con los elementos ordenados $a' = [a_1, a_2,…,a_{n-1}, a_n]$ de manera que *$a_1'\\leq a_2' \\leq a_3'\\leq... \\leq a_n'$* pero en un tiempo lineal\n",
        "\n",
        "![image](https://imgur.com/v99pCtP.png)\n",
        "\n",
        "Es uno de los problemas más antiguos de la informática debido a que tiene un grado de complejidad a pesar de lo muy simple y sencillo que parezca, es por eso que hoy en día se investiga sobre este problema para hacerlo cada vez más sencillo, rápido y eficiente."
      ],
      "metadata": {
        "id": "p8FPH0xHs0kN"
      }
    },
    {
      "cell_type": "markdown",
      "source": [
        "#2. **Bucket-sort**\n",
        "---\n",
        "##2.1 **Codigo**"
      ],
      "metadata": {
        "id": "8nKeQ4hwWQy4"
      }
    },
    {
      "cell_type": "code",
      "source": [
        "from termcolor import colored\n",
        "\n",
        "def insertionSort(b):\n",
        "    for i in range(1, len(b)):\n",
        "        up = b[i]\n",
        "        j = i - 1\n",
        "        while j >= 0 and b[j] > up: \n",
        "            b[j + 1] = b[j]\n",
        "            j -= 1\n",
        "        b[j + 1] = up     \n",
        "    return b     \n",
        "              \n",
        "def bucketSort(x,verbose=False,func=insertionSort):#func sera la funcion para ordenar\n",
        "    b = []\n",
        "    slot_num = 10\n",
        "    n=len(x)\n",
        "    \n",
        "    for i in range(slot_num): #se genera un arreglo de los buckets\n",
        "        b.append([])   \n",
        "\n",
        "    #verbose---------------------------\n",
        "    if(verbose):\n",
        "      print (\"\\n-------------------------------------------------------------\")\n",
        "      print(\"SE INICA EL ARREGLO DE BUCKETS Y SE INGRESA EL ARREGLO AL CUAL QUEREMOS ORDENAR\\n\")\n",
        "      print(\"Arreglo de entrada  Buckets\")\n",
        "      m = max(10,n)\n",
        "      for i in range(0,m):\n",
        "        if(i<n):\n",
        "          cadena1=(str(i+1)+\"-\"+ \"[\"+str(x[i])+\"]\")\n",
        "        else:\n",
        "          cadena1=\"\"\n",
        "\n",
        "        if(i<10):\n",
        "          cadena2=str(i)+\"-\"+ (\"[]\")\n",
        "        else:\n",
        "          cadena2=\"\"\n",
        "        \n",
        "        print (cadena1.center(18,\" \")+\"   \"+cadena2.ljust(7,\" \"))\n",
        "    #verbose---------------------------\n",
        "      print (\"\\n-------------------------------------------------------------\")\n",
        "    for j in x:\n",
        "        index_b = int(slot_num * j)\n",
        "        b[index_b].append(j) #ingresa los elementos de x en los buckets\n",
        "\n",
        "    #verbose---------------------------\n",
        "    if(verbose):\n",
        "      print(\"INGRESANDO LOS ELEMENTOS DEL ARREGLO EN SUS RESPECTIVOS BUCKETS\\n\")\n",
        "      print(\"Arreglo de entrada  Buckets\")\n",
        "      m = max(10,n)\n",
        "      for i in range(0,m):\n",
        "        if(i<n):\n",
        "          cadena1=str(i+1)+\"-\"+ (\"[\"+str(x[i])+\"]\")\n",
        "        else:\n",
        "          cadena1=\"\"\n",
        "\n",
        "        if(i<10):\n",
        "          cadena2=str(i)+\"-\"+ (\"[\"+str(b[i])[1:-1]+\"]\")\n",
        "        else:\n",
        "          cadena2=\"\"\n",
        "        \n",
        "        print (cadena1.center(18,\" \")+\"   \"+cadena2.ljust(7,\" \"))\n",
        "      print (\"\\n-------------------------------------------------------------\")\n",
        "    #verbose---------------------------\n",
        "\n",
        "    for i in range(slot_num):\n",
        "        b[i] = func(b[i])  #ordena los buckets con la funcion\n",
        "\n",
        "    #verbose---------------------------\n",
        "    if(verbose):\n",
        "      print(\"SE ORDENAN LOS ELEMENTOS DENTRO DE CADA BUCKET\\n\")\n",
        "      print(\"Arreglo de entrada  Buckets\")\n",
        "      m = max(10,n)\n",
        "      for i in range(0,m):\n",
        "        if(i<n):\n",
        "          cadena1=str(i+1)+\"-\"+ (\"[\"+str(x[i])+\"]\")\n",
        "        else:\n",
        "          cadena1=\"\"\n",
        "\n",
        "        if(i<10):\n",
        "          cadena2=str(i)+\"-\"+ (\"[\"+str(b[i])[1:-1]+\"]\")\n",
        "        else:\n",
        "          cadena2=\"\"\n",
        "        \n",
        "        print (cadena1.center(18,\" \")+\"   \"+cadena2.ljust(7,\" \"))\n",
        "      print (\"\\n-------------------------------------------------------------\")\n",
        "    #verbose---------------------------\n",
        "\n",
        "    k = 0\n",
        "    for i in range(slot_num):\n",
        "        for j in range(len(b[i])):\n",
        "            x[k] = b[i][j] #une y ordena los buckets en el arreglo\n",
        "            k += 1\n",
        "    #verbose---------------------------\n",
        "    if(verbose):\n",
        "      print(\"\\nSE RETORNA EL ARRELGO ORDENADO\\n\")\n",
        "      print(\"x = [\"+str(x)[1:-1]+\"]\")\n",
        "    #verbose---------------------------\n",
        "\n",
        "    return x\n",
        "\n",
        "\n",
        "print(\"Arreglo x:\")\n",
        "x = [.19, .51, .63, .11, .64, 0.10] \n",
        "print(x,\"\\n\")\n",
        "print(\"Arreglo ordenado:\")\n",
        "print(bucketSort(x,False))\n",
        "\n"
      ],
      "metadata": {
        "colab": {
          "base_uri": "https://localhost:8080/"
        },
        "id": "PZXbvaU4Wd8s",
        "outputId": "e27f3ffc-5ecc-4bfd-e67c-2ef6d46f7c77"
      },
      "execution_count": 331,
      "outputs": [
        {
          "output_type": "stream",
          "name": "stdout",
          "text": [
            "Arreglo x:\n",
            "[0.19, 0.51, 0.63, 0.11, 0.64, 0.1] \n",
            "\n",
            "Arreglo ordenado:\n",
            "[0.1, 0.11, 0.19, 0.51, 0.63, 0.64]\n"
          ]
        }
      ]
    },
    {
      "cell_type": "markdown",
      "source": [
        "##2.2 **Descripción del algoritmo**\n",
        "---\n",
        "\n",
        "Bucket-sort es un algoritmo de ordenamiento lineal él asume que los elementos son números enteros que van entre $[0,1[$ cuál los distribuye en pequeños arreglo llamados buckets y luego estos se ordenan gracias a otra función de ordenamiento (Insertion-sort por defecto).\n",
        "\n",
        "**Para ordenar los n elementos del arreglo este necesita hacer las siguientes operaciones.**\n",
        "\n",
        "1.   Divide el rango de los elementos en n sub-arreglos todos con el mismo tamaño\n",
        "\n",
        "2.   Este itera y va poniendo los elementos del arreglo en sus respectivos buckets\n",
        "\n",
        "3. Luego utilizá otro algoritmo de ordenamiento para ordenar los elementos dentro de estos buckets\n",
        "\n",
        "4. Para finalisar une los sub-arreglos y retorna la lista ordenada\n",
        "\n",
        "##2.3 **Ejemplo**\n",
        "---\n",
        "\n",
        "####Se genera el arreglo de buckets:\n",
        "\n",
        "![1](https://i.imgur.com/JiXZUY7.png)\n",
        "\n",
        "####Se introduce cada elemento a su bucket correspondiente\n",
        "\n",
        "![2](https://i.imgur.com/Ew1NHMK.png)\n",
        "\n",
        "####Se ordenan los elementos dentro de los buckets\n",
        "\n",
        "![3](https://i.imgur.com/jMHXmhz.png)\n",
        "\n",
        "####Se ingresan los elementos de los buckets de manera ordenada a arreglo base\n"
      ],
      "metadata": {
        "id": "Q_dXqDaTaRod"
      }
    },
    {
      "cell_type": "code",
      "source": [
        "x = [.82, .51, .63, .11, .64, 0.10,.82, .51, .63, .11, .64] \n",
        "bucketSort(x,True)"
      ],
      "metadata": {
        "colab": {
          "base_uri": "https://localhost:8080/"
        },
        "id": "3eXm4TsB99yD",
        "outputId": "06551081-19c3-4976-c7a7-30a37ffe8319"
      },
      "execution_count": 124,
      "outputs": [
        {
          "output_type": "stream",
          "name": "stdout",
          "text": [
            "\n",
            "-------------------------------------------------------------\n",
            "SE INICA EL ARREGLO DE BUCKETS Y SE INGRESA EL ARREGLO AL CUAL QUEREMOS ORDENAR\n",
            "\n",
            "Arreglo de entrada  Buckets\n",
            "     1-[0.82]        0-[]   \n",
            "     2-[0.51]        1-[]   \n",
            "     3-[0.63]        2-[]   \n",
            "     4-[0.11]        3-[]   \n",
            "     5-[0.64]        4-[]   \n",
            "     6-[0.1]         5-[]   \n",
            "     7-[0.82]        6-[]   \n",
            "     8-[0.51]        7-[]   \n",
            "     9-[0.63]        8-[]   \n",
            "    10-[0.11]        9-[]   \n",
            "    11-[0.64]               \n",
            "\n",
            "-------------------------------------------------------------\n",
            "INGRESANDO LOS ELEMENTOS DEL ARREGLO EN SUS RESPECTIVOS BUCKETS\n",
            "\n",
            "Arreglo de entrada  Buckets\n",
            "     1-[0.82]        0-[]   \n",
            "     2-[0.51]        1-[0.11, 0.1, 0.11]\n",
            "     3-[0.63]        2-[]   \n",
            "     4-[0.11]        3-[]   \n",
            "     5-[0.64]        4-[]   \n",
            "     6-[0.1]         5-[0.51, 0.51]\n",
            "     7-[0.82]        6-[0.63, 0.64, 0.63, 0.64]\n",
            "     8-[0.51]        7-[]   \n",
            "     9-[0.63]        8-[0.82, 0.82]\n",
            "    10-[0.11]        9-[]   \n",
            "    11-[0.64]               \n",
            "\n",
            "-------------------------------------------------------------\n",
            "SE ORDENAN LOS ELEMENTOS DENTRO DE CADA BUCKET\n",
            "\n",
            "Arreglo de entrada  Buckets\n",
            "     1-[0.82]        0-[]   \n",
            "     2-[0.51]        1-[0.1, 0.11, 0.11]\n",
            "     3-[0.63]        2-[]   \n",
            "     4-[0.11]        3-[]   \n",
            "     5-[0.64]        4-[]   \n",
            "     6-[0.1]         5-[0.51, 0.51]\n",
            "     7-[0.82]        6-[0.63, 0.63, 0.64, 0.64]\n",
            "     8-[0.51]        7-[]   \n",
            "     9-[0.63]        8-[0.82, 0.82]\n",
            "    10-[0.11]        9-[]   \n",
            "    11-[0.64]               \n",
            "\n",
            "-------------------------------------------------------------\n",
            "\n",
            "SE RETORNA EL ARRELGO ORDENADO\n",
            "\n",
            "x = [0.1, 0.11, 0.11, 0.51, 0.51, 0.63, 0.63, 0.64, 0.64, 0.82, 0.82]\n"
          ]
        },
        {
          "output_type": "execute_result",
          "data": {
            "text/plain": [
              "[0.1, 0.11, 0.11, 0.51, 0.51, 0.63, 0.63, 0.64, 0.64, 0.82, 0.82]"
            ]
          },
          "metadata": {},
          "execution_count": 124
        }
      ]
    },
    {
      "cell_type": "markdown",
      "source": [
        "#3. **Correctitud**\n",
        "---"
      ],
      "metadata": {
        "id": "fSg7jMGBczag"
      }
    },
    {
      "cell_type": "markdown",
      "source": [
        "##**3.1 Teorema 1**\n",
        "---\n",
        "\n",
        "_\"el **arreglo de buckets** siempre cumplirá que los elementos de $b[i]$ serán menores a su sucesores ($b[i+1],b[i+2],...,b[$slot_num$]$ ) y al final del algoritmo este los combina y entrega la lista ordenada\"_.\n",
        "\n",
        "Para probar esto tenemos que analizar el algoritmo:\n",
        "\n",
        "###**Inicialización**: \n",
        "\n",
        "1. Se ingresa a `x` como el arreglo que se necesita ordenar.\n",
        "\n",
        "2. Se construye el arreglo de buckets `b`.\n",
        "\n",
        "3. Se inicia `slot_num` para ayudar a organizar los elementos dentro de estos buckets\n",
        "\n",
        "\n",
        "\n",
        "### **Mantención**: \n",
        "\n",
        "1. Se itera n-veces (tamaño del arreglo `x`) los elementos dentro de `x` y estos se **ingresan a los buckets con el índice `x[i]*slot_num`** (si se repiten el índice se ingresan dentro de `b[i]` como si fuera un arreglo). \n",
        "\n",
        "![5](https://i.imgur.com/MudG7X1.png)\n",
        "\n",
        "2. Luego **se ordenan los elementos dentro de cada `b[i]`** con insertion sort. Luego se eliminan los `b[i]` que estén vacíos de tal manera que el arreglo queda $b=[b_1≤b_1≤...≤b_n]$.\n",
        "\n",
        "![6](https://i.imgur.com/HiG7Fej.png)\n",
        "\n",
        "3. Se recorre el arreglo de buckets se ingresan `b[i][j]` en cada `a[i]` (se iteran 2 ciclos uno que recorre `i` hasta `slot_num` y el segundo de j hasta el último elemento de `b[j]`) para que el arreglo `x`.\n",
        "\n",
        "![7](https://i.imgur.com/0sTPwVi.png)\n",
        "\n",
        "### **Finalización**:\n",
        "\n",
        "1. Se retorna el arreglo `x` ordenado\n",
        "\n",
        "##3.2 **Teorema 2**\n",
        "---\n",
        "\n",
        "_\"Dentro de cada **bucket** aparte de estar ordenado, siempre mantendrá el **orden relativo** con el que fueron ingresados\"_\n",
        "\n",
        "para probar este teorema podemos hacerlo por inducción matemática\n",
        "\n",
        "* **Caso base**: el bucket posee solo  1 elemento por lo cual está trivialmente ordenad0.\n",
        "\n",
        "* **Caso general**: Se asume que `InsertionSort(b[i])` es correcto y mantiene el orden relativo de los elementos, mientras `len(b[i])=1`\n",
        "\n",
        "Insertion-sort al ser estable este permite ordenar los elementos de menor a mayor y mantiene el orden relativo con los que estos fueron ingresados dentro del bucket \n",
        "\n",
        "finalmente este retorna el bucket ordenado de menor a mayor y mantiene el orden con el que fueron ingresados\n",
        "\n",
        "![4](https://i.imgur.com/7fF1z6O.png)\n",
        "\n",
        "##2.4 **Ejemplo en el código**\n",
        "---"
      ],
      "metadata": {
        "id": "682MswBTc8Po"
      }
    },
    {
      "cell_type": "markdown",
      "source": [
        "#4. **Complejidad temporal**\n",
        "---\n",
        "\n",
        "Para calcular la complejidad temporal tenemos que tener varias cosas en cuenta.\n",
        "\n",
        "Si se excluye a insertion-sort, bucket-sort tiene un tiempo lineal para ambos casos así que se puede representar por:\n",
        "\n",
        "###$$Θ(n)$$\n",
        "\n",
        "* Por otro lado insertion sort va a ordenar a todos los elementos dentro de cada bucket así que su complejidad se puede calcular como:\n",
        "\n",
        "$$\\sum_{i=0}^{n-1}{O(n_i^2)}$$\n",
        "\n",
        "* Ahora podemos juntar estas 2 y poder analisarlo:\n",
        "$$ T(n)= Θ(n) + \\sum_{i=0}^{n-1}{O(n_i^2)} $$\n",
        "\n",
        "* Para calcular la complejidad temporal podemos usar el valor esperado y aplicarlo para todo \n",
        "\n",
        "$$ E[T(n)= Θ(n) + \\sum_{i=0}^{n-1}{O(n_i^2)}]$$\n",
        "\n",
        "$$ E[T(n)]= E[Θ(n)] + \\sum_{i=0}^{n-1}{E[O(n_i^2)]}$$\n",
        "\n",
        "$$ = Θ(n) + \\sum_{i=0}^{n-1}{E[O(n_i^2)]}$$\n",
        "\n",
        "$$ = Θ(n) + \\sum_{i=0}^{n-1}{O(E[n_i^2])}$$\n",
        "\n",
        "* Donde el $E[n_i^2] = O(2-\\frac{1}{n})$ ._(pg-203 introduction to algorithms)_\n",
        "\n",
        "Para concluir tenemos que:\n",
        "\n",
        "$$ E[T(n)]= Θ(n) + \\sum_{i=0}^{n-1}{O(2-\\frac{1}{n})}$$\n",
        "$$ E[T(n)]= Θ(n) + nO(2-\\frac{1}{n})$$\n",
        "\n",
        "$$ E[T(n)]= Θ(n) + O(n)$$ \n",
        "\n",
        "\n",
        "$$ E[T(n)]= Θ(n)$$\n",
        "\n",
        "Gracias al valor esperado podemos intuir que bucket-sort tiene una complejidad de $Θ(n)$, esto también significa que tanto para el mejor caso y el peor caso este tendrá la misma complejidad temporal\n",
        "\n"
      ],
      "metadata": {
        "id": "j97azUw-ksfS"
      }
    },
    {
      "cell_type": "markdown",
      "source": [
        "#5. **Experimentacion**\n",
        "---\n",
        "\n"
      ],
      "metadata": {
        "id": "SXc8-JiVU0IA"
      }
    },
    {
      "cell_type": "markdown",
      "source": [
        "##5.1 **Comparacion entre radix sort y bucketsort**"
      ],
      "metadata": {
        "id": "ff8DRhpCL55d"
      }
    },
    {
      "cell_type": "code",
      "source": [
        "import matplotlib.pyplot as plt\n",
        "import random\n",
        "import datetime\n",
        "from timeit import repeat\n",
        "\n",
        "\n",
        "def bucketSortParaInt(x,verbose=False,func=insertionSort):#func sera la funcion para ordenar\n",
        "    b = []\n",
        "    slot_num = int(max(x))\n",
        "    n=len(x)\n",
        "    \n",
        "    for i in range(slot_num+1): #se genera un arreglo de los buckets\n",
        "        b.append([])   \n",
        "\n",
        "    \n",
        "    for j in range(0,len(x)):\n",
        "        index_b = int(x[j])\n",
        "\n",
        "        b[index_b].append(x[j]) #ingresa los elementos de x en los buckets\n",
        "\n",
        "    for i in range(slot_num):\n",
        "        b[i] = func(b[i])  #ordena los buckets con la funcion\n",
        "\n",
        "    k = 0\n",
        "    for i in range(slot_num+1):\n",
        "        for j in range(len(b[i])):\n",
        "            x[k] = b[i][j] #une y ordena los buckets en el arreglo\n",
        "            k += 1\n",
        "\n",
        "    return x\n",
        "\n",
        "\n",
        "## codigo sacado de https://www.geeksforgeeks.org/python-program-for-radix-sort/\n",
        "def countingSort(arr, exp1):\n",
        " \n",
        "    n = len(arr)\n",
        "    output = [0] * (n)\n",
        "    count = [0] * (10)\n",
        " \n",
        "    for i in range(0, n):\n",
        "        index = arr[i] // exp1\n",
        "        count[index % 10] += 1\n",
        "\n",
        "    for i in range(1, 10):\n",
        "        count[i] += count[i - 1]\n",
        "        \n",
        "    i = n - 1\n",
        "    while i >= 0:\n",
        "        index = arr[i] // exp1\n",
        "        output[count[index % 10] - 1] = arr[i]\n",
        "        count[index % 10] -= 1\n",
        "        i -= 1\n",
        "    i = 0\n",
        "    for i in range(0, len(arr)):\n",
        "        arr[i] = output[i]\n",
        " \n",
        "def radixSort(arr):\n",
        "\n",
        "    max1 = max(arr)\n",
        "\n",
        "    exp = 1\n",
        "    while max1 / exp >= 1:\n",
        "        countingSort(arr, exp)\n",
        "        exp *= 10\n",
        "\n",
        "    return arr\n",
        "\n",
        "\n",
        "bx=[]\n",
        "by=[]\n",
        "\n",
        "wx=[]\n",
        "wy=[]\n",
        "\n",
        "for n in range(5,1000):\n",
        "\n",
        "  a1 = random.sample(range(1, 1000), n)\n",
        "  a2 = a1\n",
        "\n",
        "  t1 = repeat(setup=\"from __main__ import bucketSortParaInt\", stmt=f\"bucketSortParaInt({a1})\", repeat=1, number=10)\n",
        "\n",
        "  bx.append(n)\n",
        "  by.append(t1)\n",
        "\n",
        "  t2 = repeat(setup=\"from __main__ import radixSort\", stmt=f\"radixSort({a2})\", repeat=1, number=10)\n",
        "\n",
        "  wx.append(n)\n",
        "  wy.append(t2)\n",
        "\n",
        "plt.plot(bx,by)\n",
        "plt.plot(wx,wy)\n",
        "plt.legend([\"BucketSort\", \"RadixSort\"])\n",
        "\n",
        "plt.xlabel('n')\n",
        "plt.ylabel('time in ms')\n",
        "plt.show()"
      ],
      "metadata": {
        "colab": {
          "base_uri": "https://localhost:8080/",
          "height": 280
        },
        "id": "-KlSsuPn19jT",
        "outputId": "6b4f3c08-63b8-4af0-ad2e-85171ed03344"
      },
      "execution_count": 226,
      "outputs": [
        {
          "output_type": "display_data",
          "data": {
            "text/plain": [
              "<Figure size 432x288 with 1 Axes>"
            ],
            "image/png": "[encoded data removed]"
          },
          "metadata": {
            "needs_background": "light"
          }
        }
      ]
    },
    {
      "cell_type": "markdown",
      "source": [
        "Como se puede apresiar cuando $n < 600$ (valor aproximado) RadixSort demostro ser mucho mas rapido que BucketSort pero a medida $n$ 600 estos llegan a ser iguales hasta que pasan esta sifra.\n",
        "\n",
        "Es asi como **bucketsort demuestra ser mas rapido en arreglos que cumplan que $n > 600$**.\n",
        "\n",
        "en ambos casos tienen complejidad lineal lo cual lo vulve muy rapidos pero eso no quita el echo de que pueden ser muy costoso en tema de memoria siendo $O(n)$ (la mas costosa comparada a quicksort que es $O(log(n)$ y insertionsort de $O(1)$)\n"
      ],
      "metadata": {
        "id": "wB_B2boXOVVS"
      }
    },
    {
      "cell_type": "markdown",
      "source": [
        "#5.3 **Analisis de casos**\n",
        "---\n",
        "\n"
      ],
      "metadata": {
        "id": "d8181iJIVrwP"
      }
    },
    {
      "cell_type": "code",
      "source": [
        "import matplotlib.pyplot as plt\n",
        "import random\n",
        "import datetime\n",
        "from timeit import repeat\n",
        "\n",
        "bx=[]\n",
        "by=[]\n",
        "\n",
        "\n",
        "best=[n*0.00001 for n in range(5,20)]\n",
        "worst=[(n**2)*0.00001 for n in range(5,20)]\n",
        "for n in range(5,20):\n",
        "\n",
        "  a1 = random.sample(range(1, 20), n)\n",
        "  \n",
        "  for j in range(0,len(a1)):\n",
        "    a1[j]=float(a1[j]/100)\n",
        "  t1 = repeat(setup=\"from __main__ import bucketSort\", stmt=f\"bucketSort({a1})\", repeat=1, number=10)\n",
        "\n",
        "  bx.append(n)\n",
        "  by.append(t1)\n",
        "\n",
        "\n",
        "plt.plot(bx,by)\n",
        "plt.plot(x,best)\n",
        "plt.plot(x,worst)\n",
        "plt.legend([\"Caso-promedio\",\"Mejor-caso\", \"Peor-caso\"])\n",
        "\n",
        "plt.xlabel('n')\n",
        "plt.ylabel('time in ms')\n",
        "plt.show()"
      ],
      "metadata": {
        "colab": {
          "base_uri": "https://localhost:8080/",
          "height": 279
        },
        "id": "glBb7kLP-YGn",
        "outputId": "b40480e5-05c7-4a58-983a-b817604d91b2"
      },
      "execution_count": 286,
      "outputs": [
        {
          "output_type": "display_data",
          "data": {
            "text/plain": [
              "<Figure size 432x288 with 1 Axes>"
            ],
            "image/png": "[encoded data removed]"
          },
          "metadata": {
            "needs_background": "light"
          }
        }
      ]
    },
    {
      "cell_type": "markdown",
      "source": [
        "Como se pude ver en la grafica Bucket-sort el caso promedio tiende hacia el mejor caso $O(n)$, aunque siempre van a ver casos muy especificos que puden hacer que bucket sort tienda a $O(n^2)$ como se puede cuando $n$ llega a 9 este se hacerca a $O(n^2)$ "
      ],
      "metadata": {
        "id": "KZHi8I_xV5ew"
      }
    }
  ]
}